{
  "cells": [
    {
      "cell_type": "markdown",
      "metadata": {
        "id": "view-in-github",
        "colab_type": "text"
      },
      "source": [
        "<a href=\"https://colab.research.google.com/github/yunyangMA/checkpoint-0-and-1-yunyang/blob/main/Dict/%E2%80%9Ccheckpoint1_ipynb%E2%80%9Dyunyang.ipynb\" target=\"_parent\"><img src=\"https://colab.research.google.com/assets/colab-badge.svg\" alt=\"Open In Colab\"/></a>"
      ]
    },
    {
      "cell_type": "markdown",
      "metadata": {
        "id": "MU79vGgTsYQo"
      },
      "source": [
        "# Checkpoint 1"
      ]
    },
    {
      "cell_type": "markdown",
      "metadata": {
        "id": "c_jiQuElsYQq"
      },
      "source": [
        "Reminder: \n",
        "\n",
        "- You are being evaluated for compeletion and effort in this checkpoint. \n",
        "- Avoid manual labor / hard coding as much as possible, everything we've taught you so far are meant to simplify and automate your process."
      ]
    },
    {
      "cell_type": "markdown",
      "metadata": {
        "id": "WiDCtLYssYQq"
      },
      "source": [
        "We will be working with the same `states_edu.csv` that you should already be familiar with from the tutorial.\n",
        "\n",
        "We investigated Grade 8 reading score in the tutorial. For this checkpoint, you are asked to investigate another test. Here's an overview:\n",
        "\n",
        "* Choose a specific response variable to focus on\n",
        ">Grade 4 Math, Grade 4 Reading, Grade 8 Math\n",
        "* Pick or create features to use\n",
        ">Will all the features be useful in predicting test score? Are some more important than others? Should you standardize, bin, or scale the data?\n",
        "* Explore the data as it relates to that test\n",
        ">Create at least 2 visualizations (graphs), each with a caption describing the graph and what it tells us about the data\n",
        "* Create training and testing data\n",
        ">Do you want to train on all the data? Only data from the last 10 years? Only Michigan data?\n",
        "* Train a ML model to predict outcome \n",
        ">Define what you want to predict, and pick a model in sklearn to use (see sklearn <a href=\"https://scikit-learn.org/stable/modules/linear_model.html\">regressors</a>.\n",
        "* Summarize your findings\n",
        ">Write a 1 paragraph summary of what you did and make a recommendation about if and how student performance can be predicted\n",
        "\n",
        "Include comments throughout your code! Every cleanup and preprocessing task should be documented.\n",
        "\n",
        "Of course, if you're finding this assignment interesting (and we really hope you do!), you are welcome to do more than the requirements! For example, you may want to see if expenditure affects 4th graders more than 8th graders. Maybe you want to look into the extended version of this dataset and see how factors like sex and race are involved. You can include all your work in this notebook when you turn it in -- just always make sure you explain what you did and interpret your results. Good luck!"
      ]
    },
    {
      "cell_type": "markdown",
      "metadata": {
        "id": "k0yhJ_pKsYQr"
      },
      "source": [
        "<h2> Data Cleanup </h2>\n",
        "\n",
        "Import `numpy`, `pandas`, and `matplotlib`.\n",
        "\n",
        "(Feel free to import other libraries!)"
      ]
    },
    {
      "cell_type": "code",
      "execution_count": null,
      "metadata": {
        "id": "EtloLPS2sYQr"
      },
      "outputs": [],
      "source": [
        "import pandas as pd\n",
        "import numpy as np\n",
        "import matplotlib.pyplot as plt"
      ]
    },
    {
      "cell_type": "markdown",
      "metadata": {
        "id": "qc5-2mhusYQs"
      },
      "source": [
        "Load in the \"states_edu.csv\" dataset and take a look at the head of the data"
      ]
    },
    {
      "cell_type": "code",
      "execution_count": null,
      "metadata": {
        "id": "JAGbRMS4sYQs",
        "colab": {
          "base_uri": "https://localhost:8080/"
        },
        "outputId": "708d684a-9375-415a-af3e-97287bfcd5ea"
      },
      "outputs": [
        {
          "output_type": "stream",
          "name": "stdout",
          "text": [
            "Drive already mounted at /content/gdrive; to attempt to forcibly remount, call drive.mount(\"/content/gdrive\", force_remount=True).\n"
          ]
        }
      ],
      "source": [
        "from google.colab import drive\n",
        "import os\n",
        "drive.mount('/content/gdrive')\n",
        "os.chdir(\"/content/gdrive/My Drive/MDST files/MDST-Tutorial-Redesign-main/data\")\n",
        "df_states_edu = pd.read_csv(\"states_edu.csv\")"
      ]
    },
    {
      "cell_type": "markdown",
      "metadata": {
        "id": "bro07Y-QsYQs"
      },
      "source": [
        "You should always familiarize yourself with what each column in the dataframe represents. Read about the states_edu dataset here: https://www.kaggle.com/noriuk/us-education-datasets-unification-project"
      ]
    },
    {
      "cell_type": "markdown",
      "metadata": {
        "id": "HjVF_5_ssYQt"
      },
      "source": [
        "Use this space to rename columns, deal with missing data, etc. _(optional)_"
      ]
    },
    {
      "cell_type": "code",
      "execution_count": null,
      "metadata": {
        "id": "rEnpjej4sYQt"
      },
      "outputs": [],
      "source": [
        "df_states_edu.columns\n",
        "df_states_edu.isna().sum()\n",
        "df_states_edu.notna().sum()\n",
        "df_states_edu.dropna(subset=['AVG_MATH_8_SCORE'], inplace=True)"
      ]
    },
    {
      "cell_type": "code",
      "source": [
        "\n",
        "df_states_edu[\"ENROLL\"] = df_states_edu[\"ENROLL\"].fillna(df_states_edu[\"GRADES_ALL_G\"])\n",
        "df_states_edu[[\"ENROLL\",\"GRADES_ALL_G\"]].dropna()"
      ],
      "metadata": {
        "id": "NkVWpZGvlbII",
        "colab": {
          "base_uri": "https://localhost:8080/",
          "height": 424
        },
        "outputId": "1494f368-2cba-4fba-b075-3b99e632144a"
      },
      "execution_count": null,
      "outputs": [
        {
          "output_type": "execute_result",
          "data": {
            "text/plain": [
              "         ENROLL  GRADES_ALL_G\n",
              "0      731634.0      731634.0\n",
              "2      673477.0      673477.0\n",
              "3      441490.0      441490.0\n",
              "4     5254844.0     5254844.0\n",
              "5      612635.0      612635.0\n",
              "...         ...           ...\n",
              "1219  1279867.0     1283590.0\n",
              "1220  1072359.0     1087030.0\n",
              "1221   279565.0      277452.0\n",
              "1222   861813.0      867800.0\n",
              "1223    93867.0       94717.0\n",
              "\n",
              "[439 rows x 2 columns]"
            ],
            "text/html": [
              "\n",
              "  <div id=\"df-25a5b28e-4e51-47ae-9bef-307ce4b3c2ba\">\n",
              "    <div class=\"colab-df-container\">\n",
              "      <div>\n",
              "<style scoped>\n",
              "    .dataframe tbody tr th:only-of-type {\n",
              "        vertical-align: middle;\n",
              "    }\n",
              "\n",
              "    .dataframe tbody tr th {\n",
              "        vertical-align: top;\n",
              "    }\n",
              "\n",
              "    .dataframe thead th {\n",
              "        text-align: right;\n",
              "    }\n",
              "</style>\n",
              "<table border=\"1\" class=\"dataframe\">\n",
              "  <thead>\n",
              "    <tr style=\"text-align: right;\">\n",
              "      <th></th>\n",
              "      <th>ENROLL</th>\n",
              "      <th>GRADES_ALL_G</th>\n",
              "    </tr>\n",
              "  </thead>\n",
              "  <tbody>\n",
              "    <tr>\n",
              "      <th>0</th>\n",
              "      <td>731634.0</td>\n",
              "      <td>731634.0</td>\n",
              "    </tr>\n",
              "    <tr>\n",
              "      <th>2</th>\n",
              "      <td>673477.0</td>\n",
              "      <td>673477.0</td>\n",
              "    </tr>\n",
              "    <tr>\n",
              "      <th>3</th>\n",
              "      <td>441490.0</td>\n",
              "      <td>441490.0</td>\n",
              "    </tr>\n",
              "    <tr>\n",
              "      <th>4</th>\n",
              "      <td>5254844.0</td>\n",
              "      <td>5254844.0</td>\n",
              "    </tr>\n",
              "    <tr>\n",
              "      <th>5</th>\n",
              "      <td>612635.0</td>\n",
              "      <td>612635.0</td>\n",
              "    </tr>\n",
              "    <tr>\n",
              "      <th>...</th>\n",
              "      <td>...</td>\n",
              "      <td>...</td>\n",
              "    </tr>\n",
              "    <tr>\n",
              "      <th>1219</th>\n",
              "      <td>1279867.0</td>\n",
              "      <td>1283590.0</td>\n",
              "    </tr>\n",
              "    <tr>\n",
              "      <th>1220</th>\n",
              "      <td>1072359.0</td>\n",
              "      <td>1087030.0</td>\n",
              "    </tr>\n",
              "    <tr>\n",
              "      <th>1221</th>\n",
              "      <td>279565.0</td>\n",
              "      <td>277452.0</td>\n",
              "    </tr>\n",
              "    <tr>\n",
              "      <th>1222</th>\n",
              "      <td>861813.0</td>\n",
              "      <td>867800.0</td>\n",
              "    </tr>\n",
              "    <tr>\n",
              "      <th>1223</th>\n",
              "      <td>93867.0</td>\n",
              "      <td>94717.0</td>\n",
              "    </tr>\n",
              "  </tbody>\n",
              "</table>\n",
              "<p>439 rows × 2 columns</p>\n",
              "</div>\n",
              "      <button class=\"colab-df-convert\" onclick=\"convertToInteractive('df-25a5b28e-4e51-47ae-9bef-307ce4b3c2ba')\"\n",
              "              title=\"Convert this dataframe to an interactive table.\"\n",
              "              style=\"display:none;\">\n",
              "        \n",
              "  <svg xmlns=\"http://www.w3.org/2000/svg\" height=\"24px\"viewBox=\"0 0 24 24\"\n",
              "       width=\"24px\">\n",
              "    <path d=\"M0 0h24v24H0V0z\" fill=\"none\"/>\n",
              "    <path d=\"M18.56 5.44l.94 2.06.94-2.06 2.06-.94-2.06-.94-.94-2.06-.94 2.06-2.06.94zm-11 1L8.5 8.5l.94-2.06 2.06-.94-2.06-.94L8.5 2.5l-.94 2.06-2.06.94zm10 10l.94 2.06.94-2.06 2.06-.94-2.06-.94-.94-2.06-.94 2.06-2.06.94z\"/><path d=\"M17.41 7.96l-1.37-1.37c-.4-.4-.92-.59-1.43-.59-.52 0-1.04.2-1.43.59L10.3 9.45l-7.72 7.72c-.78.78-.78 2.05 0 2.83L4 21.41c.39.39.9.59 1.41.59.51 0 1.02-.2 1.41-.59l7.78-7.78 2.81-2.81c.8-.78.8-2.07 0-2.86zM5.41 20L4 18.59l7.72-7.72 1.47 1.35L5.41 20z\"/>\n",
              "  </svg>\n",
              "      </button>\n",
              "      \n",
              "  <style>\n",
              "    .colab-df-container {\n",
              "      display:flex;\n",
              "      flex-wrap:wrap;\n",
              "      gap: 12px;\n",
              "    }\n",
              "\n",
              "    .colab-df-convert {\n",
              "      background-color: #E8F0FE;\n",
              "      border: none;\n",
              "      border-radius: 50%;\n",
              "      cursor: pointer;\n",
              "      display: none;\n",
              "      fill: #1967D2;\n",
              "      height: 32px;\n",
              "      padding: 0 0 0 0;\n",
              "      width: 32px;\n",
              "    }\n",
              "\n",
              "    .colab-df-convert:hover {\n",
              "      background-color: #E2EBFA;\n",
              "      box-shadow: 0px 1px 2px rgba(60, 64, 67, 0.3), 0px 1px 3px 1px rgba(60, 64, 67, 0.15);\n",
              "      fill: #174EA6;\n",
              "    }\n",
              "\n",
              "    [theme=dark] .colab-df-convert {\n",
              "      background-color: #3B4455;\n",
              "      fill: #D2E3FC;\n",
              "    }\n",
              "\n",
              "    [theme=dark] .colab-df-convert:hover {\n",
              "      background-color: #434B5C;\n",
              "      box-shadow: 0px 1px 3px 1px rgba(0, 0, 0, 0.15);\n",
              "      filter: drop-shadow(0px 1px 2px rgba(0, 0, 0, 0.3));\n",
              "      fill: #FFFFFF;\n",
              "    }\n",
              "  </style>\n",
              "\n",
              "      <script>\n",
              "        const buttonEl =\n",
              "          document.querySelector('#df-25a5b28e-4e51-47ae-9bef-307ce4b3c2ba button.colab-df-convert');\n",
              "        buttonEl.style.display =\n",
              "          google.colab.kernel.accessAllowed ? 'block' : 'none';\n",
              "\n",
              "        async function convertToInteractive(key) {\n",
              "          const element = document.querySelector('#df-25a5b28e-4e51-47ae-9bef-307ce4b3c2ba');\n",
              "          const dataTable =\n",
              "            await google.colab.kernel.invokeFunction('convertToInteractive',\n",
              "                                                     [key], {});\n",
              "          if (!dataTable) return;\n",
              "\n",
              "          const docLinkHtml = 'Like what you see? Visit the ' +\n",
              "            '<a target=\"_blank\" href=https://colab.research.google.com/notebooks/data_table.ipynb>data table notebook</a>'\n",
              "            + ' to learn more about interactive tables.';\n",
              "          element.innerHTML = '';\n",
              "          dataTable['output_type'] = 'display_data';\n",
              "          await google.colab.output.renderOutput(dataTable, element);\n",
              "          const docLink = document.createElement('div');\n",
              "          docLink.innerHTML = docLinkHtml;\n",
              "          element.appendChild(docLink);\n",
              "        }\n",
              "      </script>\n",
              "    </div>\n",
              "  </div>\n",
              "  "
            ]
          },
          "metadata": {},
          "execution_count": 51
        }
      ]
    },
    {
      "cell_type": "markdown",
      "metadata": {
        "id": "GF_QqyB8sYQu"
      },
      "source": [
        "<h2>Exploratory Data Analysis (EDA) </h2>"
      ]
    },
    {
      "cell_type": "markdown",
      "metadata": {
        "id": "MxtCbdUPsYQu"
      },
      "source": [
        "Chosen Outcome Variable for Test: *Grade 8 Math*"
      ]
    },
    {
      "cell_type": "code",
      "source": [
        "df_states_edu.AVG_MATH_8_SCORE.plot.hist(title=\"Distribution of 8th Grade Math Scores\", edgecolor=\"black\")"
      ],
      "metadata": {
        "colab": {
          "base_uri": "https://localhost:8080/",
          "height": 298
        },
        "id": "dPSx1MHFtfdn",
        "outputId": "0a5c3c9a-56bb-45eb-fae9-c6f1c31b6f81"
      },
      "execution_count": null,
      "outputs": [
        {
          "output_type": "execute_result",
          "data": {
            "text/plain": [
              "<matplotlib.axes._subplots.AxesSubplot at 0x7f944b9c4050>"
            ]
          },
          "metadata": {},
          "execution_count": 6
        },
        {
          "output_type": "display_data",
          "data": {
            "text/plain": [
              "<Figure size 432x288 with 1 Axes>"
            ],
            "image/png": "[encoded data removed]"
          },
          "metadata": {
            "needs_background": "light"
          }
        }
      ]
    },
    {
      "cell_type": "code",
      "source": [
        "df_states_edu.groupby('YEAR')[\"AVG_MATH_8_SCORE\"].mean().plot()\n",
        "plt.ylabel('SCORE')\n",
        "plt.title('8th Grade Math Score Over Time')"
      ],
      "metadata": {
        "colab": {
          "base_uri": "https://localhost:8080/",
          "height": 312
        },
        "id": "_tUZPhXxt7xn",
        "outputId": "a1003935-fe2a-449f-daae-32e008d23326"
      },
      "execution_count": null,
      "outputs": [
        {
          "output_type": "execute_result",
          "data": {
            "text/plain": [
              "Text(0.5, 1.0, '8th Grade Math Score Over Time')"
            ]
          },
          "metadata": {},
          "execution_count": 7
        },
        {
          "output_type": "display_data",
          "data": {
            "text/plain": [
              "<Figure size 432x288 with 1 Axes>"
            ],
            "image/png": "[encoded data removed]"
          },
          "metadata": {
            "needs_background": "light"
          }
        }
      ]
    },
    {
      "cell_type": "markdown",
      "metadata": {
        "id": "kv0ttp15sYQu"
      },
      "source": [
        "How many years of data are logged in our dataset? Answer: 13"
      ]
    },
    {
      "cell_type": "markdown",
      "metadata": {
        "id": "DUsZ7twOsYQv"
      },
      "source": [
        "Let's compare Michigan to Ohio. Which state has the higher average outcome score across all years? Answer: Ohio."
      ]
    },
    {
      "cell_type": "code",
      "execution_count": null,
      "metadata": {
        "id": "y4KFUIn6sYQv",
        "colab": {
          "base_uri": "https://localhost:8080/",
          "height": 930
        },
        "outputId": "afb67756-0b0d-4082-9bbe-d86af0ac5c5c"
      },
      "outputs": [
        {
          "output_type": "stream",
          "name": "stdout",
          "text": [
            "276.1666666666667\n",
            "282.25\n"
          ]
        },
        {
          "output_type": "execute_result",
          "data": {
            "text/plain": [
              "        PRIMARY_KEY     STATE  YEAR     ENROLL  TOTAL_REVENUE  \\\n",
              "22    1992_MICHIGAN  MICHIGAN  1992  1603610.0      9963137.0   \n",
              "430   2000_MICHIGAN  MICHIGAN  2000  1700074.0     15939477.0   \n",
              "583   2003_MICHIGAN  MICHIGAN  2003  1764327.0     18488359.0   \n",
              "685   2005_MICHIGAN  MICHIGAN  2005  1721351.0     19106382.0   \n",
              "787   2007_MICHIGAN  MICHIGAN  2007  1686473.0     20576110.0   \n",
              "889   2009_MICHIGAN  MICHIGAN  2009  1537515.0     19616665.0   \n",
              "991   2011_MICHIGAN  MICHIGAN  2011  1455966.0     19374026.0   \n",
              "1093  2013_MICHIGAN  MICHIGAN  2013  1381167.0     18270327.0   \n",
              "1195  2015_MICHIGAN  MICHIGAN  2015  1345009.0     19025996.0   \n",
              "1433  1990_MICHIGAN  MICHIGAN  1990  1584431.0            NaN   \n",
              "1435  2017_MICHIGAN  MICHIGAN  2017  1516398.0            NaN   \n",
              "1685  2019_MICHIGAN  MICHIGAN  2019        NaN            NaN   \n",
              "35        1992_OHIO      OHIO  1992  1795199.0      9285961.0   \n",
              "443       2000_OHIO      OHIO  2000  1822566.0     15327834.0   \n",
              "596       2003_OHIO      OHIO  2003  1803966.0     18018740.0   \n",
              "698       2005_OHIO      OHIO  2005  1778784.0     19746239.0   \n",
              "800       2007_OHIO      OHIO  2007  1758645.0     22142424.0   \n",
              "902       2009_OHIO      OHIO  2009  1729072.0     22779344.0   \n",
              "1004      2011_OHIO      OHIO  2011  1655534.0     23488657.0   \n",
              "1106      2013_OHIO      OHIO  2013  1613718.0     22536516.0   \n",
              "1208      2015_OHIO      OHIO  2015  1600222.0     24378660.0   \n",
              "1524      1990_OHIO      OHIO  1990  1771089.0            NaN   \n",
              "1526      2017_OHIO      OHIO  2017  1704399.0            NaN   \n",
              "1699      2019_OHIO      OHIO  2019        NaN            NaN   \n",
              "\n",
              "      FEDERAL_REVENUE  STATE_REVENUE  LOCAL_REVENUE  TOTAL_EXPENDITURE  \\\n",
              "22           537917.0      2539380.0      6885840.0         10170688.0   \n",
              "430         1030238.0      9942275.0      4966964.0         16580526.0   \n",
              "583         1357006.0     11227903.0      5903450.0         19680370.0   \n",
              "685         1513264.0     10990030.0      6603088.0         20489512.0   \n",
              "787         1541818.0     11383198.0      7651094.0         19839838.0   \n",
              "889         2094714.0     10130740.0      7391211.0         19992550.0   \n",
              "991         2525528.0      9845508.0      7002990.0         18469948.0   \n",
              "1093        1636324.0      9882361.0      6751642.0         17468264.0   \n",
              "1195        1582706.0     10510346.0      6932944.0         17742903.0   \n",
              "1433              NaN            NaN            NaN                NaN   \n",
              "1435              NaN            NaN            NaN                NaN   \n",
              "1685              NaN            NaN            NaN                NaN   \n",
              "35           472604.0      3631703.0      5181654.0          9483822.0   \n",
              "443          843432.0      6425872.0      8058530.0         14909952.0   \n",
              "596         1097349.0      7844992.0      9076399.0         18760200.0   \n",
              "698         1413888.0      8313858.0     10018493.0         19785561.0   \n",
              "800         1461326.0      9341723.0     11339375.0         21336580.0   \n",
              "902         1531263.0     10226228.0     11021853.0         22427481.0   \n",
              "1004        2533882.0      9834235.0     11120540.0         23010396.0   \n",
              "1106        1721213.0      8990516.0     11824787.0         22015797.0   \n",
              "1208        1676820.0     10169760.0     12532080.0         22561728.0   \n",
              "1524              NaN            NaN            NaN                NaN   \n",
              "1526              NaN            NaN            NaN                NaN   \n",
              "1699              NaN            NaN            NaN                NaN   \n",
              "\n",
              "      INSTRUCTION_EXPENDITURE  ...  GRADES_4_G  GRADES_8_G  GRADES_12_G  \\\n",
              "22                  4681327.0  ...    118963.0    114282.0      90655.0   \n",
              "430                 7709336.0  ...    134163.0    128743.0     101900.0   \n",
              "583                 8725075.0  ...    127659.0    139797.0     108688.0   \n",
              "685                 9269314.0  ...    121830.0    134113.0     113351.0   \n",
              "787                 9608836.0  ...    118931.0    126608.0     126380.0   \n",
              "889                 9422685.0  ...    118702.0    121463.0     126181.0   \n",
              "991                 9198775.0  ...    112465.0    118628.0     120498.0   \n",
              "1093                8885537.0  ...    113420.0    118440.0     116607.0   \n",
              "1195                9040821.0  ...    111267.0    113640.0     114700.0   \n",
              "1433                      NaN  ...    117560.0    109328.0      91769.0   \n",
              "1435                      NaN  ...    107959.0    114521.0     117197.0   \n",
              "1685                      NaN  ...         NaN         NaN          NaN   \n",
              "35                  5172782.0  ...    137839.0    137075.0     116085.0   \n",
              "443                 7497388.0  ...    143373.0    139740.0     119704.0   \n",
              "596                 8958790.0  ...    136776.0    147064.0     127993.0   \n",
              "698                 9700668.0  ...    131691.0    144869.0     130436.0   \n",
              "800                10202242.0  ...    132634.0    139939.0     134417.0   \n",
              "902                10734314.0  ...    133751.0    134169.0     118872.0   \n",
              "1004               11074360.0  ...    130406.0    134219.0     117866.0   \n",
              "1106               10800145.0  ...    128668.0    135042.0     114607.0   \n",
              "1208               11620080.0  ...    127995.0    131692.0     119952.0   \n",
              "1524                      NaN  ...    141402.0    132213.0     118605.0   \n",
              "1526                      NaN  ...    128118.0    130481.0     121801.0   \n",
              "1699                      NaN  ...         NaN         NaN          NaN   \n",
              "\n",
              "      GRADES_1_8_G  GRADES_9_12_G  GRADES_ALL_G  AVG_MATH_4_SCORE  \\\n",
              "22             NaN            NaN     1603610.0             220.0   \n",
              "430      1053309.0       486726.0     1720626.0             229.0   \n",
              "583      1045762.0       514701.0     1757604.0             236.0   \n",
              "685      1008809.0       538642.0     1742282.0             238.0   \n",
              "787       970882.0       549291.0     1692739.0             238.0   \n",
              "889       948457.0       529531.0     1649082.0             236.0   \n",
              "991       920586.0       500042.0     1573537.0             236.0   \n",
              "1093      910594.0       487518.0     1548841.0             237.0   \n",
              "1195      887682.0       482540.0     1536231.0             236.0   \n",
              "1433           NaN            NaN     1584431.0               NaN   \n",
              "1435           NaN       477301.0     1516398.0             236.0   \n",
              "1685           NaN            NaN           NaN             236.0   \n",
              "35             NaN            NaN     1795199.0             219.0   \n",
              "443      1133611.0       541403.0     1835049.0             230.0   \n",
              "596      1118015.0       567226.0     1845428.0             238.0   \n",
              "698      1095686.0       578352.0     1839683.0             242.0   \n",
              "800      1077618.0       585862.0     1827184.0             245.0   \n",
              "902      1064903.0       538951.0     1764297.0             244.0   \n",
              "1004     1056888.0       522804.0     1740030.0             244.0   \n",
              "1106     1049020.0       515611.0     1724111.0             246.0   \n",
              "1208     1037775.0       521595.0     1716585.0             244.0   \n",
              "1524           NaN            NaN     1771089.0               NaN   \n",
              "1526           NaN       517145.0     1704399.0             241.0   \n",
              "1699           NaN            NaN           NaN             241.0   \n",
              "\n",
              "      AVG_MATH_8_SCORE  AVG_READING_4_SCORE  AVG_READING_8_SCORE  \n",
              "22               267.0                216.0                  NaN  \n",
              "430              277.0                  NaN                  NaN  \n",
              "583              276.0                219.0                264.0  \n",
              "685              277.0                218.0                261.0  \n",
              "787              277.0                220.0                260.0  \n",
              "889              278.0                218.0                262.0  \n",
              "991              280.0                219.0                265.0  \n",
              "1093             280.0                217.0                266.0  \n",
              "1195             278.0                216.0                264.0  \n",
              "1433             264.0                  NaN                  NaN  \n",
              "1435             280.0                218.0                265.0  \n",
              "1685             280.0                218.0                263.0  \n",
              "35               268.0                217.0                  NaN  \n",
              "443              281.0                  NaN                  NaN  \n",
              "596              282.0                222.0                267.0  \n",
              "698              283.0                223.0                267.0  \n",
              "800              285.0                226.0                268.0  \n",
              "902              286.0                225.0                269.0  \n",
              "1004             289.0                224.0                268.0  \n",
              "1106             290.0                224.0                269.0  \n",
              "1208             285.0                225.0                266.0  \n",
              "1524             264.0                  NaN                  NaN  \n",
              "1526             288.0                225.0                268.0  \n",
              "1699             286.0                222.0                267.0  \n",
              "\n",
              "[24 rows x 25 columns]"
            ],
            "text/html": [
              "\n",
              "  <div id=\"df-01e67bd1-c538-43c2-a88a-b06d31984ebf\">\n",
              "    <div class=\"colab-df-container\">\n",
              "      <div>\n",
              "<style scoped>\n",
              "    .dataframe tbody tr th:only-of-type {\n",
              "        vertical-align: middle;\n",
              "    }\n",
              "\n",
              "    .dataframe tbody tr th {\n",
              "        vertical-align: top;\n",
              "    }\n",
              "\n",
              "    .dataframe thead th {\n",
              "        text-align: right;\n",
              "    }\n",
              "</style>\n",
              "<table border=\"1\" class=\"dataframe\">\n",
              "  <thead>\n",
              "    <tr style=\"text-align: right;\">\n",
              "      <th></th>\n",
              "      <th>PRIMARY_KEY</th>\n",
              "      <th>STATE</th>\n",
              "      <th>YEAR</th>\n",
              "      <th>ENROLL</th>\n",
              "      <th>TOTAL_REVENUE</th>\n",
              "      <th>FEDERAL_REVENUE</th>\n",
              "      <th>STATE_REVENUE</th>\n",
              "      <th>LOCAL_REVENUE</th>\n",
              "      <th>TOTAL_EXPENDITURE</th>\n",
              "      <th>INSTRUCTION_EXPENDITURE</th>\n",
              "      <th>...</th>\n",
              "      <th>GRADES_4_G</th>\n",
              "      <th>GRADES_8_G</th>\n",
              "      <th>GRADES_12_G</th>\n",
              "      <th>GRADES_1_8_G</th>\n",
              "      <th>GRADES_9_12_G</th>\n",
              "      <th>GRADES_ALL_G</th>\n",
              "      <th>AVG_MATH_4_SCORE</th>\n",
              "      <th>AVG_MATH_8_SCORE</th>\n",
              "      <th>AVG_READING_4_SCORE</th>\n",
              "      <th>AVG_READING_8_SCORE</th>\n",
              "    </tr>\n",
              "  </thead>\n",
              "  <tbody>\n",
              "    <tr>\n",
              "      <th>22</th>\n",
              "      <td>1992_MICHIGAN</td>\n",
              "      <td>MICHIGAN</td>\n",
              "      <td>1992</td>\n",
              "      <td>1603610.0</td>\n",
              "      <td>9963137.0</td>\n",
              "      <td>537917.0</td>\n",
              "      <td>2539380.0</td>\n",
              "      <td>6885840.0</td>\n",
              "      <td>10170688.0</td>\n",
              "      <td>4681327.0</td>\n",
              "      <td>...</td>\n",
              "      <td>118963.0</td>\n",
              "      <td>114282.0</td>\n",
              "      <td>90655.0</td>\n",
              "      <td>NaN</td>\n",
              "      <td>NaN</td>\n",
              "      <td>1603610.0</td>\n",
              "      <td>220.0</td>\n",
              "      <td>267.0</td>\n",
              "      <td>216.0</td>\n",
              "      <td>NaN</td>\n",
              "    </tr>\n",
              "    <tr>\n",
              "      <th>430</th>\n",
              "      <td>2000_MICHIGAN</td>\n",
              "      <td>MICHIGAN</td>\n",
              "      <td>2000</td>\n",
              "      <td>1700074.0</td>\n",
              "      <td>15939477.0</td>\n",
              "      <td>1030238.0</td>\n",
              "      <td>9942275.0</td>\n",
              "      <td>4966964.0</td>\n",
              "      <td>16580526.0</td>\n",
              "      <td>7709336.0</td>\n",
              "      <td>...</td>\n",
              "      <td>134163.0</td>\n",
              "      <td>128743.0</td>\n",
              "      <td>101900.0</td>\n",
              "      <td>1053309.0</td>\n",
              "      <td>486726.0</td>\n",
              "      <td>1720626.0</td>\n",
              "      <td>229.0</td>\n",
              "      <td>277.0</td>\n",
              "      <td>NaN</td>\n",
              "      <td>NaN</td>\n",
              "    </tr>\n",
              "    <tr>\n",
              "      <th>583</th>\n",
              "      <td>2003_MICHIGAN</td>\n",
              "      <td>MICHIGAN</td>\n",
              "      <td>2003</td>\n",
              "      <td>1764327.0</td>\n",
              "      <td>18488359.0</td>\n",
              "      <td>1357006.0</td>\n",
              "      <td>11227903.0</td>\n",
              "      <td>5903450.0</td>\n",
              "      <td>19680370.0</td>\n",
              "      <td>8725075.0</td>\n",
              "      <td>...</td>\n",
              "      <td>127659.0</td>\n",
              "      <td>139797.0</td>\n",
              "      <td>108688.0</td>\n",
              "      <td>1045762.0</td>\n",
              "      <td>514701.0</td>\n",
              "      <td>1757604.0</td>\n",
              "      <td>236.0</td>\n",
              "      <td>276.0</td>\n",
              "      <td>219.0</td>\n",
              "      <td>264.0</td>\n",
              "    </tr>\n",
              "    <tr>\n",
              "      <th>685</th>\n",
              "      <td>2005_MICHIGAN</td>\n",
              "      <td>MICHIGAN</td>\n",
              "      <td>2005</td>\n",
              "      <td>1721351.0</td>\n",
              "      <td>19106382.0</td>\n",
              "      <td>1513264.0</td>\n",
              "      <td>10990030.0</td>\n",
              "      <td>6603088.0</td>\n",
              "      <td>20489512.0</td>\n",
              "      <td>9269314.0</td>\n",
              "      <td>...</td>\n",
              "      <td>121830.0</td>\n",
              "      <td>134113.0</td>\n",
              "      <td>113351.0</td>\n",
              "      <td>1008809.0</td>\n",
              "      <td>538642.0</td>\n",
              "      <td>1742282.0</td>\n",
              "      <td>238.0</td>\n",
              "      <td>277.0</td>\n",
              "      <td>218.0</td>\n",
              "      <td>261.0</td>\n",
              "    </tr>\n",
              "    <tr>\n",
              "      <th>787</th>\n",
              "      <td>2007_MICHIGAN</td>\n",
              "      <td>MICHIGAN</td>\n",
              "      <td>2007</td>\n",
              "      <td>1686473.0</td>\n",
              "      <td>20576110.0</td>\n",
              "      <td>1541818.0</td>\n",
              "      <td>11383198.0</td>\n",
              "      <td>7651094.0</td>\n",
              "      <td>19839838.0</td>\n",
              "      <td>9608836.0</td>\n",
              "      <td>...</td>\n",
              "      <td>118931.0</td>\n",
              "      <td>126608.0</td>\n",
              "      <td>126380.0</td>\n",
              "      <td>970882.0</td>\n",
              "      <td>549291.0</td>\n",
              "      <td>1692739.0</td>\n",
              "      <td>238.0</td>\n",
              "      <td>277.0</td>\n",
              "      <td>220.0</td>\n",
              "      <td>260.0</td>\n",
              "    </tr>\n",
              "    <tr>\n",
              "      <th>889</th>\n",
              "      <td>2009_MICHIGAN</td>\n",
              "      <td>MICHIGAN</td>\n",
              "      <td>2009</td>\n",
              "      <td>1537515.0</td>\n",
              "      <td>19616665.0</td>\n",
              "      <td>2094714.0</td>\n",
              "      <td>10130740.0</td>\n",
              "      <td>7391211.0</td>\n",
              "      <td>19992550.0</td>\n",
              "      <td>9422685.0</td>\n",
              "      <td>...</td>\n",
              "      <td>118702.0</td>\n",
              "      <td>121463.0</td>\n",
              "      <td>126181.0</td>\n",
              "      <td>948457.0</td>\n",
              "      <td>529531.0</td>\n",
              "      <td>1649082.0</td>\n",
              "      <td>236.0</td>\n",
              "      <td>278.0</td>\n",
              "      <td>218.0</td>\n",
              "      <td>262.0</td>\n",
              "    </tr>\n",
              "    <tr>\n",
              "      <th>991</th>\n",
              "      <td>2011_MICHIGAN</td>\n",
              "      <td>MICHIGAN</td>\n",
              "      <td>2011</td>\n",
              "      <td>1455966.0</td>\n",
              "      <td>19374026.0</td>\n",
              "      <td>2525528.0</td>\n",
              "      <td>9845508.0</td>\n",
              "      <td>7002990.0</td>\n",
              "      <td>18469948.0</td>\n",
              "      <td>9198775.0</td>\n",
              "      <td>...</td>\n",
              "      <td>112465.0</td>\n",
              "      <td>118628.0</td>\n",
              "      <td>120498.0</td>\n",
              "      <td>920586.0</td>\n",
              "      <td>500042.0</td>\n",
              "      <td>1573537.0</td>\n",
              "      <td>236.0</td>\n",
              "      <td>280.0</td>\n",
              "      <td>219.0</td>\n",
              "      <td>265.0</td>\n",
              "    </tr>\n",
              "    <tr>\n",
              "      <th>1093</th>\n",
              "      <td>2013_MICHIGAN</td>\n",
              "      <td>MICHIGAN</td>\n",
              "      <td>2013</td>\n",
              "      <td>1381167.0</td>\n",
              "      <td>18270327.0</td>\n",
              "      <td>1636324.0</td>\n",
              "      <td>9882361.0</td>\n",
              "      <td>6751642.0</td>\n",
              "      <td>17468264.0</td>\n",
              "      <td>8885537.0</td>\n",
              "      <td>...</td>\n",
              "      <td>113420.0</td>\n",
              "      <td>118440.0</td>\n",
              "      <td>116607.0</td>\n",
              "      <td>910594.0</td>\n",
              "      <td>487518.0</td>\n",
              "      <td>1548841.0</td>\n",
              "      <td>237.0</td>\n",
              "      <td>280.0</td>\n",
              "      <td>217.0</td>\n",
              "      <td>266.0</td>\n",
              "    </tr>\n",
              "    <tr>\n",
              "      <th>1195</th>\n",
              "      <td>2015_MICHIGAN</td>\n",
              "      <td>MICHIGAN</td>\n",
              "      <td>2015</td>\n",
              "      <td>1345009.0</td>\n",
              "      <td>19025996.0</td>\n",
              "      <td>1582706.0</td>\n",
              "      <td>10510346.0</td>\n",
              "      <td>6932944.0</td>\n",
              "      <td>17742903.0</td>\n",
              "      <td>9040821.0</td>\n",
              "      <td>...</td>\n",
              "      <td>111267.0</td>\n",
              "      <td>113640.0</td>\n",
              "      <td>114700.0</td>\n",
              "      <td>887682.0</td>\n",
              "      <td>482540.0</td>\n",
              "      <td>1536231.0</td>\n",
              "      <td>236.0</td>\n",
              "      <td>278.0</td>\n",
              "      <td>216.0</td>\n",
              "      <td>264.0</td>\n",
              "    </tr>\n",
              "    <tr>\n",
              "      <th>1433</th>\n",
              "      <td>1990_MICHIGAN</td>\n",
              "      <td>MICHIGAN</td>\n",
              "      <td>1990</td>\n",
              "      <td>1584431.0</td>\n",
              "      <td>NaN</td>\n",
              "      <td>NaN</td>\n",
              "      <td>NaN</td>\n",
              "      <td>NaN</td>\n",
              "      <td>NaN</td>\n",
              "      <td>NaN</td>\n",
              "      <td>...</td>\n",
              "      <td>117560.0</td>\n",
              "      <td>109328.0</td>\n",
              "      <td>91769.0</td>\n",
              "      <td>NaN</td>\n",
              "      <td>NaN</td>\n",
              "      <td>1584431.0</td>\n",
              "      <td>NaN</td>\n",
              "      <td>264.0</td>\n",
              "      <td>NaN</td>\n",
              "      <td>NaN</td>\n",
              "    </tr>\n",
              "    <tr>\n",
              "      <th>1435</th>\n",
              "      <td>2017_MICHIGAN</td>\n",
              "      <td>MICHIGAN</td>\n",
              "      <td>2017</td>\n",
              "      <td>1516398.0</td>\n",
              "      <td>NaN</td>\n",
              "      <td>NaN</td>\n",
              "      <td>NaN</td>\n",
              "      <td>NaN</td>\n",
              "      <td>NaN</td>\n",
              "      <td>NaN</td>\n",
              "      <td>...</td>\n",
              "      <td>107959.0</td>\n",
              "      <td>114521.0</td>\n",
              "      <td>117197.0</td>\n",
              "      <td>NaN</td>\n",
              "      <td>477301.0</td>\n",
              "      <td>1516398.0</td>\n",
              "      <td>236.0</td>\n",
              "      <td>280.0</td>\n",
              "      <td>218.0</td>\n",
              "      <td>265.0</td>\n",
              "    </tr>\n",
              "    <tr>\n",
              "      <th>1685</th>\n",
              "      <td>2019_MICHIGAN</td>\n",
              "      <td>MICHIGAN</td>\n",
              "      <td>2019</td>\n",
              "      <td>NaN</td>\n",
              "      <td>NaN</td>\n",
              "      <td>NaN</td>\n",
              "      <td>NaN</td>\n",
              "      <td>NaN</td>\n",
              "      <td>NaN</td>\n",
              "      <td>NaN</td>\n",
              "      <td>...</td>\n",
              "      <td>NaN</td>\n",
              "      <td>NaN</td>\n",
              "      <td>NaN</td>\n",
              "      <td>NaN</td>\n",
              "      <td>NaN</td>\n",
              "      <td>NaN</td>\n",
              "      <td>236.0</td>\n",
              "      <td>280.0</td>\n",
              "      <td>218.0</td>\n",
              "      <td>263.0</td>\n",
              "    </tr>\n",
              "    <tr>\n",
              "      <th>35</th>\n",
              "      <td>1992_OHIO</td>\n",
              "      <td>OHIO</td>\n",
              "      <td>1992</td>\n",
              "      <td>1795199.0</td>\n",
              "      <td>9285961.0</td>\n",
              "      <td>472604.0</td>\n",
              "      <td>3631703.0</td>\n",
              "      <td>5181654.0</td>\n",
              "      <td>9483822.0</td>\n",
              "      <td>5172782.0</td>\n",
              "      <td>...</td>\n",
              "      <td>137839.0</td>\n",
              "      <td>137075.0</td>\n",
              "      <td>116085.0</td>\n",
              "      <td>NaN</td>\n",
              "      <td>NaN</td>\n",
              "      <td>1795199.0</td>\n",
              "      <td>219.0</td>\n",
              "      <td>268.0</td>\n",
              "      <td>217.0</td>\n",
              "      <td>NaN</td>\n",
              "    </tr>\n",
              "    <tr>\n",
              "      <th>443</th>\n",
              "      <td>2000_OHIO</td>\n",
              "      <td>OHIO</td>\n",
              "      <td>2000</td>\n",
              "      <td>1822566.0</td>\n",
              "      <td>15327834.0</td>\n",
              "      <td>843432.0</td>\n",
              "      <td>6425872.0</td>\n",
              "      <td>8058530.0</td>\n",
              "      <td>14909952.0</td>\n",
              "      <td>7497388.0</td>\n",
              "      <td>...</td>\n",
              "      <td>143373.0</td>\n",
              "      <td>139740.0</td>\n",
              "      <td>119704.0</td>\n",
              "      <td>1133611.0</td>\n",
              "      <td>541403.0</td>\n",
              "      <td>1835049.0</td>\n",
              "      <td>230.0</td>\n",
              "      <td>281.0</td>\n",
              "      <td>NaN</td>\n",
              "      <td>NaN</td>\n",
              "    </tr>\n",
              "    <tr>\n",
              "      <th>596</th>\n",
              "      <td>2003_OHIO</td>\n",
              "      <td>OHIO</td>\n",
              "      <td>2003</td>\n",
              "      <td>1803966.0</td>\n",
              "      <td>18018740.0</td>\n",
              "      <td>1097349.0</td>\n",
              "      <td>7844992.0</td>\n",
              "      <td>9076399.0</td>\n",
              "      <td>18760200.0</td>\n",
              "      <td>8958790.0</td>\n",
              "      <td>...</td>\n",
              "      <td>136776.0</td>\n",
              "      <td>147064.0</td>\n",
              "      <td>127993.0</td>\n",
              "      <td>1118015.0</td>\n",
              "      <td>567226.0</td>\n",
              "      <td>1845428.0</td>\n",
              "      <td>238.0</td>\n",
              "      <td>282.0</td>\n",
              "      <td>222.0</td>\n",
              "      <td>267.0</td>\n",
              "    </tr>\n",
              "    <tr>\n",
              "      <th>698</th>\n",
              "      <td>2005_OHIO</td>\n",
              "      <td>OHIO</td>\n",
              "      <td>2005</td>\n",
              "      <td>1778784.0</td>\n",
              "      <td>19746239.0</td>\n",
              "      <td>1413888.0</td>\n",
              "      <td>8313858.0</td>\n",
              "      <td>10018493.0</td>\n",
              "      <td>19785561.0</td>\n",
              "      <td>9700668.0</td>\n",
              "      <td>...</td>\n",
              "      <td>131691.0</td>\n",
              "      <td>144869.0</td>\n",
              "      <td>130436.0</td>\n",
              "      <td>1095686.0</td>\n",
              "      <td>578352.0</td>\n",
              "      <td>1839683.0</td>\n",
              "      <td>242.0</td>\n",
              "      <td>283.0</td>\n",
              "      <td>223.0</td>\n",
              "      <td>267.0</td>\n",
              "    </tr>\n",
              "    <tr>\n",
              "      <th>800</th>\n",
              "      <td>2007_OHIO</td>\n",
              "      <td>OHIO</td>\n",
              "      <td>2007</td>\n",
              "      <td>1758645.0</td>\n",
              "      <td>22142424.0</td>\n",
              "      <td>1461326.0</td>\n",
              "      <td>9341723.0</td>\n",
              "      <td>11339375.0</td>\n",
              "      <td>21336580.0</td>\n",
              "      <td>10202242.0</td>\n",
              "      <td>...</td>\n",
              "      <td>132634.0</td>\n",
              "      <td>139939.0</td>\n",
              "      <td>134417.0</td>\n",
              "      <td>1077618.0</td>\n",
              "      <td>585862.0</td>\n",
              "      <td>1827184.0</td>\n",
              "      <td>245.0</td>\n",
              "      <td>285.0</td>\n",
              "      <td>226.0</td>\n",
              "      <td>268.0</td>\n",
              "    </tr>\n",
              "    <tr>\n",
              "      <th>902</th>\n",
              "      <td>2009_OHIO</td>\n",
              "      <td>OHIO</td>\n",
              "      <td>2009</td>\n",
              "      <td>1729072.0</td>\n",
              "      <td>22779344.0</td>\n",
              "      <td>1531263.0</td>\n",
              "      <td>10226228.0</td>\n",
              "      <td>11021853.0</td>\n",
              "      <td>22427481.0</td>\n",
              "      <td>10734314.0</td>\n",
              "      <td>...</td>\n",
              "      <td>133751.0</td>\n",
              "      <td>134169.0</td>\n",
              "      <td>118872.0</td>\n",
              "      <td>1064903.0</td>\n",
              "      <td>538951.0</td>\n",
              "      <td>1764297.0</td>\n",
              "      <td>244.0</td>\n",
              "      <td>286.0</td>\n",
              "      <td>225.0</td>\n",
              "      <td>269.0</td>\n",
              "    </tr>\n",
              "    <tr>\n",
              "      <th>1004</th>\n",
              "      <td>2011_OHIO</td>\n",
              "      <td>OHIO</td>\n",
              "      <td>2011</td>\n",
              "      <td>1655534.0</td>\n",
              "      <td>23488657.0</td>\n",
              "      <td>2533882.0</td>\n",
              "      <td>9834235.0</td>\n",
              "      <td>11120540.0</td>\n",
              "      <td>23010396.0</td>\n",
              "      <td>11074360.0</td>\n",
              "      <td>...</td>\n",
              "      <td>130406.0</td>\n",
              "      <td>134219.0</td>\n",
              "      <td>117866.0</td>\n",
              "      <td>1056888.0</td>\n",
              "      <td>522804.0</td>\n",
              "      <td>1740030.0</td>\n",
              "      <td>244.0</td>\n",
              "      <td>289.0</td>\n",
              "      <td>224.0</td>\n",
              "      <td>268.0</td>\n",
              "    </tr>\n",
              "    <tr>\n",
              "      <th>1106</th>\n",
              "      <td>2013_OHIO</td>\n",
              "      <td>OHIO</td>\n",
              "      <td>2013</td>\n",
              "      <td>1613718.0</td>\n",
              "      <td>22536516.0</td>\n",
              "      <td>1721213.0</td>\n",
              "      <td>8990516.0</td>\n",
              "      <td>11824787.0</td>\n",
              "      <td>22015797.0</td>\n",
              "      <td>10800145.0</td>\n",
              "      <td>...</td>\n",
              "      <td>128668.0</td>\n",
              "      <td>135042.0</td>\n",
              "      <td>114607.0</td>\n",
              "      <td>1049020.0</td>\n",
              "      <td>515611.0</td>\n",
              "      <td>1724111.0</td>\n",
              "      <td>246.0</td>\n",
              "      <td>290.0</td>\n",
              "      <td>224.0</td>\n",
              "      <td>269.0</td>\n",
              "    </tr>\n",
              "    <tr>\n",
              "      <th>1208</th>\n",
              "      <td>2015_OHIO</td>\n",
              "      <td>OHIO</td>\n",
              "      <td>2015</td>\n",
              "      <td>1600222.0</td>\n",
              "      <td>24378660.0</td>\n",
              "      <td>1676820.0</td>\n",
              "      <td>10169760.0</td>\n",
              "      <td>12532080.0</td>\n",
              "      <td>22561728.0</td>\n",
              "      <td>11620080.0</td>\n",
              "      <td>...</td>\n",
              "      <td>127995.0</td>\n",
              "      <td>131692.0</td>\n",
              "      <td>119952.0</td>\n",
              "      <td>1037775.0</td>\n",
              "      <td>521595.0</td>\n",
              "      <td>1716585.0</td>\n",
              "      <td>244.0</td>\n",
              "      <td>285.0</td>\n",
              "      <td>225.0</td>\n",
              "      <td>266.0</td>\n",
              "    </tr>\n",
              "    <tr>\n",
              "      <th>1524</th>\n",
              "      <td>1990_OHIO</td>\n",
              "      <td>OHIO</td>\n",
              "      <td>1990</td>\n",
              "      <td>1771089.0</td>\n",
              "      <td>NaN</td>\n",
              "      <td>NaN</td>\n",
              "      <td>NaN</td>\n",
              "      <td>NaN</td>\n",
              "      <td>NaN</td>\n",
              "      <td>NaN</td>\n",
              "      <td>...</td>\n",
              "      <td>141402.0</td>\n",
              "      <td>132213.0</td>\n",
              "      <td>118605.0</td>\n",
              "      <td>NaN</td>\n",
              "      <td>NaN</td>\n",
              "      <td>1771089.0</td>\n",
              "      <td>NaN</td>\n",
              "      <td>264.0</td>\n",
              "      <td>NaN</td>\n",
              "      <td>NaN</td>\n",
              "    </tr>\n",
              "    <tr>\n",
              "      <th>1526</th>\n",
              "      <td>2017_OHIO</td>\n",
              "      <td>OHIO</td>\n",
              "      <td>2017</td>\n",
              "      <td>1704399.0</td>\n",
              "      <td>NaN</td>\n",
              "      <td>NaN</td>\n",
              "      <td>NaN</td>\n",
              "      <td>NaN</td>\n",
              "      <td>NaN</td>\n",
              "      <td>NaN</td>\n",
              "      <td>...</td>\n",
              "      <td>128118.0</td>\n",
              "      <td>130481.0</td>\n",
              "      <td>121801.0</td>\n",
              "      <td>NaN</td>\n",
              "      <td>517145.0</td>\n",
              "      <td>1704399.0</td>\n",
              "      <td>241.0</td>\n",
              "      <td>288.0</td>\n",
              "      <td>225.0</td>\n",
              "      <td>268.0</td>\n",
              "    </tr>\n",
              "    <tr>\n",
              "      <th>1699</th>\n",
              "      <td>2019_OHIO</td>\n",
              "      <td>OHIO</td>\n",
              "      <td>2019</td>\n",
              "      <td>NaN</td>\n",
              "      <td>NaN</td>\n",
              "      <td>NaN</td>\n",
              "      <td>NaN</td>\n",
              "      <td>NaN</td>\n",
              "      <td>NaN</td>\n",
              "      <td>NaN</td>\n",
              "      <td>...</td>\n",
              "      <td>NaN</td>\n",
              "      <td>NaN</td>\n",
              "      <td>NaN</td>\n",
              "      <td>NaN</td>\n",
              "      <td>NaN</td>\n",
              "      <td>NaN</td>\n",
              "      <td>241.0</td>\n",
              "      <td>286.0</td>\n",
              "      <td>222.0</td>\n",
              "      <td>267.0</td>\n",
              "    </tr>\n",
              "  </tbody>\n",
              "</table>\n",
              "<p>24 rows × 25 columns</p>\n",
              "</div>\n",
              "      <button class=\"colab-df-convert\" onclick=\"convertToInteractive('df-01e67bd1-c538-43c2-a88a-b06d31984ebf')\"\n",
              "              title=\"Convert this dataframe to an interactive table.\"\n",
              "              style=\"display:none;\">\n",
              "        \n",
              "  <svg xmlns=\"http://www.w3.org/2000/svg\" height=\"24px\"viewBox=\"0 0 24 24\"\n",
              "       width=\"24px\">\n",
              "    <path d=\"M0 0h24v24H0V0z\" fill=\"none\"/>\n",
              "    <path d=\"M18.56 5.44l.94 2.06.94-2.06 2.06-.94-2.06-.94-.94-2.06-.94 2.06-2.06.94zm-11 1L8.5 8.5l.94-2.06 2.06-.94-2.06-.94L8.5 2.5l-.94 2.06-2.06.94zm10 10l.94 2.06.94-2.06 2.06-.94-2.06-.94-.94-2.06-.94 2.06-2.06.94z\"/><path d=\"M17.41 7.96l-1.37-1.37c-.4-.4-.92-.59-1.43-.59-.52 0-1.04.2-1.43.59L10.3 9.45l-7.72 7.72c-.78.78-.78 2.05 0 2.83L4 21.41c.39.39.9.59 1.41.59.51 0 1.02-.2 1.41-.59l7.78-7.78 2.81-2.81c.8-.78.8-2.07 0-2.86zM5.41 20L4 18.59l7.72-7.72 1.47 1.35L5.41 20z\"/>\n",
              "  </svg>\n",
              "      </button>\n",
              "      \n",
              "  <style>\n",
              "    .colab-df-container {\n",
              "      display:flex;\n",
              "      flex-wrap:wrap;\n",
              "      gap: 12px;\n",
              "    }\n",
              "\n",
              "    .colab-df-convert {\n",
              "      background-color: #E8F0FE;\n",
              "      border: none;\n",
              "      border-radius: 50%;\n",
              "      cursor: pointer;\n",
              "      display: none;\n",
              "      fill: #1967D2;\n",
              "      height: 32px;\n",
              "      padding: 0 0 0 0;\n",
              "      width: 32px;\n",
              "    }\n",
              "\n",
              "    .colab-df-convert:hover {\n",
              "      background-color: #E2EBFA;\n",
              "      box-shadow: 0px 1px 2px rgba(60, 64, 67, 0.3), 0px 1px 3px 1px rgba(60, 64, 67, 0.15);\n",
              "      fill: #174EA6;\n",
              "    }\n",
              "\n",
              "    [theme=dark] .colab-df-convert {\n",
              "      background-color: #3B4455;\n",
              "      fill: #D2E3FC;\n",
              "    }\n",
              "\n",
              "    [theme=dark] .colab-df-convert:hover {\n",
              "      background-color: #434B5C;\n",
              "      box-shadow: 0px 1px 3px 1px rgba(0, 0, 0, 0.15);\n",
              "      filter: drop-shadow(0px 1px 2px rgba(0, 0, 0, 0.3));\n",
              "      fill: #FFFFFF;\n",
              "    }\n",
              "  </style>\n",
              "\n",
              "      <script>\n",
              "        const buttonEl =\n",
              "          document.querySelector('#df-01e67bd1-c538-43c2-a88a-b06d31984ebf button.colab-df-convert');\n",
              "        buttonEl.style.display =\n",
              "          google.colab.kernel.accessAllowed ? 'block' : 'none';\n",
              "\n",
              "        async function convertToInteractive(key) {\n",
              "          const element = document.querySelector('#df-01e67bd1-c538-43c2-a88a-b06d31984ebf');\n",
              "          const dataTable =\n",
              "            await google.colab.kernel.invokeFunction('convertToInteractive',\n",
              "                                                     [key], {});\n",
              "          if (!dataTable) return;\n",
              "\n",
              "          const docLinkHtml = 'Like what you see? Visit the ' +\n",
              "            '<a target=\"_blank\" href=https://colab.research.google.com/notebooks/data_table.ipynb>data table notebook</a>'\n",
              "            + ' to learn more about interactive tables.';\n",
              "          element.innerHTML = '';\n",
              "          dataTable['output_type'] = 'display_data';\n",
              "          await google.colab.output.renderOutput(dataTable, element);\n",
              "          const docLink = document.createElement('div');\n",
              "          docLink.innerHTML = docLinkHtml;\n",
              "          element.appendChild(docLink);\n",
              "        }\n",
              "      </script>\n",
              "    </div>\n",
              "  </div>\n",
              "  "
            ]
          },
          "metadata": {},
          "execution_count": 39
        }
      ],
      "source": [
        "df1=df_states_edu.loc[(df_states_edu[\"STATE\"] == 'MICHIGAN')]\n",
        "mean_michigan=df1['AVG_MATH_8_SCORE'].mean()\n",
        "print(mean_michigan)\n",
        "df2=df_states_edu.loc[(df_states_edu[\"STATE\"] == 'OHIO')]\n",
        "mean_ohio=df2['AVG_MATH_8_SCORE'].mean()\n",
        "print(mean_ohio)\n"
      ]
    },
    {
      "cell_type": "markdown",
      "metadata": {
        "id": "Vr7WGuDGsYQv"
      },
      "source": [
        "Find the average for your outcome score across all states in 2019"
      ]
    },
    {
      "cell_type": "code",
      "execution_count": null,
      "metadata": {
        "id": "-ug-Vbr6sYQv",
        "colab": {
          "base_uri": "https://localhost:8080/"
        },
        "outputId": "1ff6db43-651a-4ccc-e198-1f025183fabb"
      },
      "outputs": [
        {
          "output_type": "execute_result",
          "data": {
            "text/plain": [
              "281.2641509433962"
            ]
          },
          "metadata": {},
          "execution_count": 19
        }
      ],
      "source": [
        "df_states_edu.loc[df_states_edu[\"YEAR\"]==2019][\"AVG_MATH_8_SCORE\"].mean()\n"
      ]
    },
    {
      "cell_type": "markdown",
      "metadata": {
        "id": "tAUVEVWisYQv"
      },
      "source": [
        "Find the maximum outcome score for every state. \n",
        "\n",
        "Refer to the `Grouping and Aggregating` section in Tutorial 0 if you are stuck."
      ]
    },
    {
      "cell_type": "code",
      "execution_count": null,
      "metadata": {
        "id": "NoVw4tghsYQv",
        "colab": {
          "base_uri": "https://localhost:8080/"
        },
        "outputId": "b9650161-2658-4e44-94cc-5ff7f6da777a"
      },
      "outputs": [
        {
          "output_type": "execute_result",
          "data": {
            "text/plain": [
              "STATE\n",
              "ALABAMA                 269.0\n",
              "ALASKA                  283.0\n",
              "ARIZONA                 283.0\n",
              "ARKANSAS                279.0\n",
              "CALIFORNIA              277.0\n",
              "COLORADO                292.0\n",
              "CONNECTICUT             289.0\n",
              "DELAWARE                284.0\n",
              "DISTRICT_OF_COLUMBIA    269.0\n",
              "DODEA                   293.0\n",
              "FLORIDA                 281.0\n",
              "GEORGIA                 281.0\n",
              "HAWAII                  281.0\n",
              "IDAHO                   287.0\n",
              "ILLINOIS                285.0\n",
              "INDIANA                 288.0\n",
              "IOWA                    286.0\n",
              "KANSAS                  290.0\n",
              "KENTUCKY                282.0\n",
              "LOUISIANA               273.0\n",
              "MAINE                   289.0\n",
              "MARYLAND                288.0\n",
              "MASSACHUSETTS           301.0\n",
              "MICHIGAN                280.0\n",
              "MINNESOTA               295.0\n",
              "MISSISSIPPI             274.0\n",
              "MISSOURI                286.0\n",
              "MONTANA                 293.0\n",
              "NATIONAL                285.0\n",
              "NEBRASKA                288.0\n",
              "NEVADA                  278.0\n",
              "NEW_HAMPSHIRE           296.0\n",
              "NEW_JERSEY              296.0\n",
              "NEW_MEXICO              274.0\n",
              "NEW_YORK                283.0\n",
              "NORTH_CAROLINA          286.0\n",
              "NORTH_DAKOTA            293.0\n",
              "OHIO                    290.0\n",
              "OKLAHOMA                279.0\n",
              "OREGON                  285.0\n",
              "PENNSYLVANIA            290.0\n",
              "RHODE_ISLAND            284.0\n",
              "SOUTH_CAROLINA          282.0\n",
              "SOUTH_DAKOTA            291.0\n",
              "TENNESSEE               280.0\n",
              "TEXAS                   290.0\n",
              "UTAH                    287.0\n",
              "VERMONT                 295.0\n",
              "VIRGINIA                290.0\n",
              "WASHINGTON              290.0\n",
              "WEST_VIRGINIA           274.0\n",
              "WISCONSIN               289.0\n",
              "WYOMING                 289.0\n",
              "Name: AVG_MATH_8_SCORE, dtype: float64"
            ]
          },
          "metadata": {},
          "execution_count": 20
        }
      ],
      "source": [
        "group_state= df_states_edu.groupby(\"STATE\")\n",
        "group_state[\"AVG_MATH_8_SCORE\"].max()"
      ]
    },
    {
      "cell_type": "markdown",
      "metadata": {
        "id": "W3HJyXUEsYQv"
      },
      "source": [
        "<h2> Feature Engineering </h2>\n",
        "\n",
        "After exploring the data, you can choose to modify features that you would use to predict the performance of the students on your chosen response variable. \n",
        "\n",
        "You can also create your own features. For example, perhaps you figured that maybe a state's expenditure per student may affect their overall academic performance so you create a expenditure_per_student feature.\n",
        "\n",
        "Use this space to modify or create features."
      ]
    },
    {
      "cell_type": "code",
      "execution_count": null,
      "metadata": {
        "id": "ssZDlLJqsYQw",
        "colab": {
          "base_uri": "https://localhost:8080/",
          "height": 488
        },
        "outputId": "d30fcbd5-6698-4d10-c59f-30e8e814d355"
      },
      "outputs": [
        {
          "output_type": "execute_result",
          "data": {
            "text/plain": [
              "             PRIMARY_KEY          STATE  YEAR     ENROLL  TOTAL_REVENUE  \\\n",
              "0           1992_ALABAMA        ALABAMA  1992   731634.0      2678885.0   \n",
              "2           1992_ARIZONA        ARIZONA  1992   673477.0      3258079.0   \n",
              "3          1992_ARKANSAS       ARKANSAS  1992   441490.0      1711959.0   \n",
              "4        1992_CALIFORNIA     CALIFORNIA  1992  5254844.0     26260025.0   \n",
              "5          1992_COLORADO       COLORADO  1992   612635.0      3185173.0   \n",
              "...                  ...            ...   ...        ...            ...   \n",
              "1219       2015_VIRGINIA       VIRGINIA  2015  1279867.0     15857524.0   \n",
              "1220     2015_WASHINGTON     WASHINGTON  2015  1072359.0     13709442.0   \n",
              "1221  2015_WEST_VIRGINIA  WEST_VIRGINIA  2015   279565.0      3478401.0   \n",
              "1222      2015_WISCONSIN      WISCONSIN  2015   861813.0     11637376.0   \n",
              "1223        2015_WYOMING        WYOMING  2015    93867.0      1962874.0   \n",
              "\n",
              "      FEDERAL_REVENUE  STATE_REVENUE  LOCAL_REVENUE  TOTAL_EXPENDITURE  \\\n",
              "0            304177.0      1659028.0       715680.0          2653798.0   \n",
              "2            297888.0      1369815.0      1590376.0          3401580.0   \n",
              "3            178571.0       958785.0       574603.0          1743022.0   \n",
              "4           2072470.0     16546514.0      7641041.0         27138832.0   \n",
              "5            163253.0      1307986.0      1713934.0          3264826.0   \n",
              "...               ...            ...            ...                ...   \n",
              "1219        1012205.0      6240349.0      8604970.0         16113212.0   \n",
              "1220        1036422.0      8293812.0      4379208.0         13630138.0   \n",
              "1221         362959.0      1979466.0      1135976.0          3466981.0   \n",
              "1222         814385.0      5869265.0      4953726.0         11553677.0   \n",
              "1223         120290.0      1116917.0       725667.0          1942406.0   \n",
              "\n",
              "      INSTRUCTION_EXPENDITURE  ...  GRADES_12_G  GRADES_1_8_G  GRADES_9_12_G  \\\n",
              "0                   1481703.0  ...      41167.0           NaN            NaN   \n",
              "2                   1435908.0  ...      37410.0           NaN            NaN   \n",
              "3                    964323.0  ...      27651.0           NaN            NaN   \n",
              "4                  14358922.0  ...     270675.0           NaN            NaN   \n",
              "5                   1642466.0  ...      34533.0           NaN            NaN   \n",
              "...                       ...  ...          ...           ...            ...   \n",
              "1219                8755896.0  ...      90391.0      772414.0       386781.0   \n",
              "1220                6508964.0  ...      89258.0      656797.0       336808.0   \n",
              "1221                1819903.0  ...      18432.0      162070.0        80142.0   \n",
              "1222                5723474.0  ...      66253.0      489919.0       263896.0   \n",
              "1223                 895910.0  ...       6299.0       59453.0        26914.0   \n",
              "\n",
              "      GRADES_ALL_G  AVG_MATH_4_SCORE  AVG_MATH_8_SCORE  AVG_READING_4_SCORE  \\\n",
              "0         731634.0             208.0             252.0                207.0   \n",
              "2         673477.0             215.0             265.0                209.0   \n",
              "3         441490.0             210.0             256.0                211.0   \n",
              "4        5254844.0             208.0             261.0                202.0   \n",
              "5         612635.0             221.0             272.0                217.0   \n",
              "...            ...               ...               ...                  ...   \n",
              "1219     1283590.0             247.0             288.0                229.0   \n",
              "1220     1087030.0             245.0             287.0                226.0   \n",
              "1221      277452.0             235.0             271.0                216.0   \n",
              "1222      867800.0             243.0             289.0                223.0   \n",
              "1223       94717.0             247.0             287.0                228.0   \n",
              "\n",
              "      AVG_READING_8_SCORE  instruction_expenditure_per_student  \\\n",
              "0                     NaN                             2.025197   \n",
              "2                     NaN                             2.132082   \n",
              "3                     NaN                             2.184247   \n",
              "4                     NaN                             2.732512   \n",
              "5                     NaN                             2.680986   \n",
              "...                   ...                                  ...   \n",
              "1219                267.0                             6.841255   \n",
              "1220                267.0                             6.069762   \n",
              "1221                260.0                             6.509767   \n",
              "1222                270.0                             6.641202   \n",
              "1223                269.0                             9.544462   \n",
              "\n",
              "      instruction_expenditure_percentage  \n",
              "0                               0.558333  \n",
              "2                               0.422130  \n",
              "3                               0.553248  \n",
              "4                               0.529091  \n",
              "5                               0.503079  \n",
              "...                                  ...  \n",
              "1219                            0.543399  \n",
              "1220                            0.477542  \n",
              "1221                            0.524924  \n",
              "1222                            0.495381  \n",
              "1223                            0.461237  \n",
              "\n",
              "[439 rows x 27 columns]"
            ],
            "text/html": [
              "\n",
              "  <div id=\"df-6219fc31-501b-44d3-baa1-b1eb0d3abedf\">\n",
              "    <div class=\"colab-df-container\">\n",
              "      <div>\n",
              "<style scoped>\n",
              "    .dataframe tbody tr th:only-of-type {\n",
              "        vertical-align: middle;\n",
              "    }\n",
              "\n",
              "    .dataframe tbody tr th {\n",
              "        vertical-align: top;\n",
              "    }\n",
              "\n",
              "    .dataframe thead th {\n",
              "        text-align: right;\n",
              "    }\n",
              "</style>\n",
              "<table border=\"1\" class=\"dataframe\">\n",
              "  <thead>\n",
              "    <tr style=\"text-align: right;\">\n",
              "      <th></th>\n",
              "      <th>PRIMARY_KEY</th>\n",
              "      <th>STATE</th>\n",
              "      <th>YEAR</th>\n",
              "      <th>ENROLL</th>\n",
              "      <th>TOTAL_REVENUE</th>\n",
              "      <th>FEDERAL_REVENUE</th>\n",
              "      <th>STATE_REVENUE</th>\n",
              "      <th>LOCAL_REVENUE</th>\n",
              "      <th>TOTAL_EXPENDITURE</th>\n",
              "      <th>INSTRUCTION_EXPENDITURE</th>\n",
              "      <th>...</th>\n",
              "      <th>GRADES_12_G</th>\n",
              "      <th>GRADES_1_8_G</th>\n",
              "      <th>GRADES_9_12_G</th>\n",
              "      <th>GRADES_ALL_G</th>\n",
              "      <th>AVG_MATH_4_SCORE</th>\n",
              "      <th>AVG_MATH_8_SCORE</th>\n",
              "      <th>AVG_READING_4_SCORE</th>\n",
              "      <th>AVG_READING_8_SCORE</th>\n",
              "      <th>instruction_expenditure_per_student</th>\n",
              "      <th>instruction_expenditure_percentage</th>\n",
              "    </tr>\n",
              "  </thead>\n",
              "  <tbody>\n",
              "    <tr>\n",
              "      <th>0</th>\n",
              "      <td>1992_ALABAMA</td>\n",
              "      <td>ALABAMA</td>\n",
              "      <td>1992</td>\n",
              "      <td>731634.0</td>\n",
              "      <td>2678885.0</td>\n",
              "      <td>304177.0</td>\n",
              "      <td>1659028.0</td>\n",
              "      <td>715680.0</td>\n",
              "      <td>2653798.0</td>\n",
              "      <td>1481703.0</td>\n",
              "      <td>...</td>\n",
              "      <td>41167.0</td>\n",
              "      <td>NaN</td>\n",
              "      <td>NaN</td>\n",
              "      <td>731634.0</td>\n",
              "      <td>208.0</td>\n",
              "      <td>252.0</td>\n",
              "      <td>207.0</td>\n",
              "      <td>NaN</td>\n",
              "      <td>2.025197</td>\n",
              "      <td>0.558333</td>\n",
              "    </tr>\n",
              "    <tr>\n",
              "      <th>2</th>\n",
              "      <td>1992_ARIZONA</td>\n",
              "      <td>ARIZONA</td>\n",
              "      <td>1992</td>\n",
              "      <td>673477.0</td>\n",
              "      <td>3258079.0</td>\n",
              "      <td>297888.0</td>\n",
              "      <td>1369815.0</td>\n",
              "      <td>1590376.0</td>\n",
              "      <td>3401580.0</td>\n",
              "      <td>1435908.0</td>\n",
              "      <td>...</td>\n",
              "      <td>37410.0</td>\n",
              "      <td>NaN</td>\n",
              "      <td>NaN</td>\n",
              "      <td>673477.0</td>\n",
              "      <td>215.0</td>\n",
              "      <td>265.0</td>\n",
              "      <td>209.0</td>\n",
              "      <td>NaN</td>\n",
              "      <td>2.132082</td>\n",
              "      <td>0.422130</td>\n",
              "    </tr>\n",
              "    <tr>\n",
              "      <th>3</th>\n",
              "      <td>1992_ARKANSAS</td>\n",
              "      <td>ARKANSAS</td>\n",
              "      <td>1992</td>\n",
              "      <td>441490.0</td>\n",
              "      <td>1711959.0</td>\n",
              "      <td>178571.0</td>\n",
              "      <td>958785.0</td>\n",
              "      <td>574603.0</td>\n",
              "      <td>1743022.0</td>\n",
              "      <td>964323.0</td>\n",
              "      <td>...</td>\n",
              "      <td>27651.0</td>\n",
              "      <td>NaN</td>\n",
              "      <td>NaN</td>\n",
              "      <td>441490.0</td>\n",
              "      <td>210.0</td>\n",
              "      <td>256.0</td>\n",
              "      <td>211.0</td>\n",
              "      <td>NaN</td>\n",
              "      <td>2.184247</td>\n",
              "      <td>0.553248</td>\n",
              "    </tr>\n",
              "    <tr>\n",
              "      <th>4</th>\n",
              "      <td>1992_CALIFORNIA</td>\n",
              "      <td>CALIFORNIA</td>\n",
              "      <td>1992</td>\n",
              "      <td>5254844.0</td>\n",
              "      <td>26260025.0</td>\n",
              "      <td>2072470.0</td>\n",
              "      <td>16546514.0</td>\n",
              "      <td>7641041.0</td>\n",
              "      <td>27138832.0</td>\n",
              "      <td>14358922.0</td>\n",
              "      <td>...</td>\n",
              "      <td>270675.0</td>\n",
              "      <td>NaN</td>\n",
              "      <td>NaN</td>\n",
              "      <td>5254844.0</td>\n",
              "      <td>208.0</td>\n",
              "      <td>261.0</td>\n",
              "      <td>202.0</td>\n",
              "      <td>NaN</td>\n",
              "      <td>2.732512</td>\n",
              "      <td>0.529091</td>\n",
              "    </tr>\n",
              "    <tr>\n",
              "      <th>5</th>\n",
              "      <td>1992_COLORADO</td>\n",
              "      <td>COLORADO</td>\n",
              "      <td>1992</td>\n",
              "      <td>612635.0</td>\n",
              "      <td>3185173.0</td>\n",
              "      <td>163253.0</td>\n",
              "      <td>1307986.0</td>\n",
              "      <td>1713934.0</td>\n",
              "      <td>3264826.0</td>\n",
              "      <td>1642466.0</td>\n",
              "      <td>...</td>\n",
              "      <td>34533.0</td>\n",
              "      <td>NaN</td>\n",
              "      <td>NaN</td>\n",
              "      <td>612635.0</td>\n",
              "      <td>221.0</td>\n",
              "      <td>272.0</td>\n",
              "      <td>217.0</td>\n",
              "      <td>NaN</td>\n",
              "      <td>2.680986</td>\n",
              "      <td>0.503079</td>\n",
              "    </tr>\n",
              "    <tr>\n",
              "      <th>...</th>\n",
              "      <td>...</td>\n",
              "      <td>...</td>\n",
              "      <td>...</td>\n",
              "      <td>...</td>\n",
              "      <td>...</td>\n",
              "      <td>...</td>\n",
              "      <td>...</td>\n",
              "      <td>...</td>\n",
              "      <td>...</td>\n",
              "      <td>...</td>\n",
              "      <td>...</td>\n",
              "      <td>...</td>\n",
              "      <td>...</td>\n",
              "      <td>...</td>\n",
              "      <td>...</td>\n",
              "      <td>...</td>\n",
              "      <td>...</td>\n",
              "      <td>...</td>\n",
              "      <td>...</td>\n",
              "      <td>...</td>\n",
              "      <td>...</td>\n",
              "    </tr>\n",
              "    <tr>\n",
              "      <th>1219</th>\n",
              "      <td>2015_VIRGINIA</td>\n",
              "      <td>VIRGINIA</td>\n",
              "      <td>2015</td>\n",
              "      <td>1279867.0</td>\n",
              "      <td>15857524.0</td>\n",
              "      <td>1012205.0</td>\n",
              "      <td>6240349.0</td>\n",
              "      <td>8604970.0</td>\n",
              "      <td>16113212.0</td>\n",
              "      <td>8755896.0</td>\n",
              "      <td>...</td>\n",
              "      <td>90391.0</td>\n",
              "      <td>772414.0</td>\n",
              "      <td>386781.0</td>\n",
              "      <td>1283590.0</td>\n",
              "      <td>247.0</td>\n",
              "      <td>288.0</td>\n",
              "      <td>229.0</td>\n",
              "      <td>267.0</td>\n",
              "      <td>6.841255</td>\n",
              "      <td>0.543399</td>\n",
              "    </tr>\n",
              "    <tr>\n",
              "      <th>1220</th>\n",
              "      <td>2015_WASHINGTON</td>\n",
              "      <td>WASHINGTON</td>\n",
              "      <td>2015</td>\n",
              "      <td>1072359.0</td>\n",
              "      <td>13709442.0</td>\n",
              "      <td>1036422.0</td>\n",
              "      <td>8293812.0</td>\n",
              "      <td>4379208.0</td>\n",
              "      <td>13630138.0</td>\n",
              "      <td>6508964.0</td>\n",
              "      <td>...</td>\n",
              "      <td>89258.0</td>\n",
              "      <td>656797.0</td>\n",
              "      <td>336808.0</td>\n",
              "      <td>1087030.0</td>\n",
              "      <td>245.0</td>\n",
              "      <td>287.0</td>\n",
              "      <td>226.0</td>\n",
              "      <td>267.0</td>\n",
              "      <td>6.069762</td>\n",
              "      <td>0.477542</td>\n",
              "    </tr>\n",
              "    <tr>\n",
              "      <th>1221</th>\n",
              "      <td>2015_WEST_VIRGINIA</td>\n",
              "      <td>WEST_VIRGINIA</td>\n",
              "      <td>2015</td>\n",
              "      <td>279565.0</td>\n",
              "      <td>3478401.0</td>\n",
              "      <td>362959.0</td>\n",
              "      <td>1979466.0</td>\n",
              "      <td>1135976.0</td>\n",
              "      <td>3466981.0</td>\n",
              "      <td>1819903.0</td>\n",
              "      <td>...</td>\n",
              "      <td>18432.0</td>\n",
              "      <td>162070.0</td>\n",
              "      <td>80142.0</td>\n",
              "      <td>277452.0</td>\n",
              "      <td>235.0</td>\n",
              "      <td>271.0</td>\n",
              "      <td>216.0</td>\n",
              "      <td>260.0</td>\n",
              "      <td>6.509767</td>\n",
              "      <td>0.524924</td>\n",
              "    </tr>\n",
              "    <tr>\n",
              "      <th>1222</th>\n",
              "      <td>2015_WISCONSIN</td>\n",
              "      <td>WISCONSIN</td>\n",
              "      <td>2015</td>\n",
              "      <td>861813.0</td>\n",
              "      <td>11637376.0</td>\n",
              "      <td>814385.0</td>\n",
              "      <td>5869265.0</td>\n",
              "      <td>4953726.0</td>\n",
              "      <td>11553677.0</td>\n",
              "      <td>5723474.0</td>\n",
              "      <td>...</td>\n",
              "      <td>66253.0</td>\n",
              "      <td>489919.0</td>\n",
              "      <td>263896.0</td>\n",
              "      <td>867800.0</td>\n",
              "      <td>243.0</td>\n",
              "      <td>289.0</td>\n",
              "      <td>223.0</td>\n",
              "      <td>270.0</td>\n",
              "      <td>6.641202</td>\n",
              "      <td>0.495381</td>\n",
              "    </tr>\n",
              "    <tr>\n",
              "      <th>1223</th>\n",
              "      <td>2015_WYOMING</td>\n",
              "      <td>WYOMING</td>\n",
              "      <td>2015</td>\n",
              "      <td>93867.0</td>\n",
              "      <td>1962874.0</td>\n",
              "      <td>120290.0</td>\n",
              "      <td>1116917.0</td>\n",
              "      <td>725667.0</td>\n",
              "      <td>1942406.0</td>\n",
              "      <td>895910.0</td>\n",
              "      <td>...</td>\n",
              "      <td>6299.0</td>\n",
              "      <td>59453.0</td>\n",
              "      <td>26914.0</td>\n",
              "      <td>94717.0</td>\n",
              "      <td>247.0</td>\n",
              "      <td>287.0</td>\n",
              "      <td>228.0</td>\n",
              "      <td>269.0</td>\n",
              "      <td>9.544462</td>\n",
              "      <td>0.461237</td>\n",
              "    </tr>\n",
              "  </tbody>\n",
              "</table>\n",
              "<p>439 rows × 27 columns</p>\n",
              "</div>\n",
              "      <button class=\"colab-df-convert\" onclick=\"convertToInteractive('df-6219fc31-501b-44d3-baa1-b1eb0d3abedf')\"\n",
              "              title=\"Convert this dataframe to an interactive table.\"\n",
              "              style=\"display:none;\">\n",
              "        \n",
              "  <svg xmlns=\"http://www.w3.org/2000/svg\" height=\"24px\"viewBox=\"0 0 24 24\"\n",
              "       width=\"24px\">\n",
              "    <path d=\"M0 0h24v24H0V0z\" fill=\"none\"/>\n",
              "    <path d=\"M18.56 5.44l.94 2.06.94-2.06 2.06-.94-2.06-.94-.94-2.06-.94 2.06-2.06.94zm-11 1L8.5 8.5l.94-2.06 2.06-.94-2.06-.94L8.5 2.5l-.94 2.06-2.06.94zm10 10l.94 2.06.94-2.06 2.06-.94-2.06-.94-.94-2.06-.94 2.06-2.06.94z\"/><path d=\"M17.41 7.96l-1.37-1.37c-.4-.4-.92-.59-1.43-.59-.52 0-1.04.2-1.43.59L10.3 9.45l-7.72 7.72c-.78.78-.78 2.05 0 2.83L4 21.41c.39.39.9.59 1.41.59.51 0 1.02-.2 1.41-.59l7.78-7.78 2.81-2.81c.8-.78.8-2.07 0-2.86zM5.41 20L4 18.59l7.72-7.72 1.47 1.35L5.41 20z\"/>\n",
              "  </svg>\n",
              "      </button>\n",
              "      \n",
              "  <style>\n",
              "    .colab-df-container {\n",
              "      display:flex;\n",
              "      flex-wrap:wrap;\n",
              "      gap: 12px;\n",
              "    }\n",
              "\n",
              "    .colab-df-convert {\n",
              "      background-color: #E8F0FE;\n",
              "      border: none;\n",
              "      border-radius: 50%;\n",
              "      cursor: pointer;\n",
              "      display: none;\n",
              "      fill: #1967D2;\n",
              "      height: 32px;\n",
              "      padding: 0 0 0 0;\n",
              "      width: 32px;\n",
              "    }\n",
              "\n",
              "    .colab-df-convert:hover {\n",
              "      background-color: #E2EBFA;\n",
              "      box-shadow: 0px 1px 2px rgba(60, 64, 67, 0.3), 0px 1px 3px 1px rgba(60, 64, 67, 0.15);\n",
              "      fill: #174EA6;\n",
              "    }\n",
              "\n",
              "    [theme=dark] .colab-df-convert {\n",
              "      background-color: #3B4455;\n",
              "      fill: #D2E3FC;\n",
              "    }\n",
              "\n",
              "    [theme=dark] .colab-df-convert:hover {\n",
              "      background-color: #434B5C;\n",
              "      box-shadow: 0px 1px 3px 1px rgba(0, 0, 0, 0.15);\n",
              "      filter: drop-shadow(0px 1px 2px rgba(0, 0, 0, 0.3));\n",
              "      fill: #FFFFFF;\n",
              "    }\n",
              "  </style>\n",
              "\n",
              "      <script>\n",
              "        const buttonEl =\n",
              "          document.querySelector('#df-6219fc31-501b-44d3-baa1-b1eb0d3abedf button.colab-df-convert');\n",
              "        buttonEl.style.display =\n",
              "          google.colab.kernel.accessAllowed ? 'block' : 'none';\n",
              "\n",
              "        async function convertToInteractive(key) {\n",
              "          const element = document.querySelector('#df-6219fc31-501b-44d3-baa1-b1eb0d3abedf');\n",
              "          const dataTable =\n",
              "            await google.colab.kernel.invokeFunction('convertToInteractive',\n",
              "                                                     [key], {});\n",
              "          if (!dataTable) return;\n",
              "\n",
              "          const docLinkHtml = 'Like what you see? Visit the ' +\n",
              "            '<a target=\"_blank\" href=https://colab.research.google.com/notebooks/data_table.ipynb>data table notebook</a>'\n",
              "            + ' to learn more about interactive tables.';\n",
              "          element.innerHTML = '';\n",
              "          dataTable['output_type'] = 'display_data';\n",
              "          await google.colab.output.renderOutput(dataTable, element);\n",
              "          const docLink = document.createElement('div');\n",
              "          docLink.innerHTML = docLinkHtml;\n",
              "          element.appendChild(docLink);\n",
              "        }\n",
              "      </script>\n",
              "    </div>\n",
              "  </div>\n",
              "  "
            ]
          },
          "metadata": {},
          "execution_count": 53
        }
      ],
      "source": [
        "df_states_edu[\"instruction_expenditure_per_student\"]=(df_states_edu[\"INSTRUCTION_EXPENDITURE\"]/df_states_edu[\"ENROLL\"])\n",
        "df_states_edu[\"instruction_expenditure_percentage\"]=(df_states_edu[\"INSTRUCTION_EXPENDITURE\"]/df_states_edu[\"TOTAL_EXPENDITURE\"])\n",
        "df_states_edu.isna().sum()\n",
        "df_states_edu"
      ]
    },
    {
      "cell_type": "markdown",
      "metadata": {
        "id": "UfUquOpisYQw"
      },
      "source": [
        "Feature engineering justification: *Maybe a state's expenditure per student may affect their overall academic performance so I create a instruction_expenditure_per_student feature.In addition, I want to see the percentage of instruction expenditure in total expenditure, so I create a instruction_expenditure_percentage feature.*"
      ]
    },
    {
      "cell_type": "markdown",
      "metadata": {
        "id": "9sYnb2XgsYQw"
      },
      "source": [
        "<h2>Visualization</h2>\n",
        "\n",
        "Investigate the relationship between your chosen response variable and at least two predictors using visualizations. Write down your observations.\n",
        "\n",
        "**Visualization 1**"
      ]
    },
    {
      "cell_type": "code",
      "execution_count": 61,
      "metadata": {
        "id": "D4ZhmkjVsYQw",
        "colab": {
          "base_uri": "https://localhost:8080/",
          "height": 297
        },
        "outputId": "816a6032-0550-4871-9b47-2dec1e51c476"
      },
      "outputs": [
        {
          "output_type": "execute_result",
          "data": {
            "text/plain": [
              "Text(0, 0.5, 'AVG_MATH_8_SCORE')"
            ]
          },
          "metadata": {},
          "execution_count": 61
        },
        {
          "output_type": "display_data",
          "data": {
            "text/plain": [
              "<Figure size 432x288 with 1 Axes>"
            ],
            "image/png": "[encoded data removed]"
          },
          "metadata": {
            "needs_background": "light"
          }
        }
      ],
      "source": [
        "df_states_edu.plot.scatter(x=\"AVG_MATH_4_SCORE\", y=\"AVG_MATH_8_SCORE\", alpha=0.6)\n",
        "plt.xlabel(\"AVG_MATH_4_SCORE\")\n",
        "plt.ylabel(\"AVG_MATH_8_SCORE\")"
      ]
    },
    {
      "cell_type": "markdown",
      "metadata": {
        "id": "w4dkHUbJsYQw"
      },
      "source": [
        "**Math grades for 4th year and 8th year have a strong positive relationship.This may support that students are encouraged to learn math well at a young age.**"
      ]
    },
    {
      "cell_type": "markdown",
      "metadata": {
        "id": "ag4gc11nsYQw"
      },
      "source": [
        "**Visualization 2**"
      ]
    },
    {
      "cell_type": "code",
      "execution_count": 62,
      "metadata": {
        "id": "UnqgL5zGsYQw",
        "colab": {
          "base_uri": "https://localhost:8080/",
          "height": 297
        },
        "outputId": "2e2651dd-1876-4e9f-8195-0cbc6bbc8c6c"
      },
      "outputs": [
        {
          "output_type": "execute_result",
          "data": {
            "text/plain": [
              "Text(0, 0.5, 'AVG_MATH_8_SCORE')"
            ]
          },
          "metadata": {},
          "execution_count": 62
        },
        {
          "output_type": "display_data",
          "data": {
            "text/plain": [
              "<Figure size 432x288 with 1 Axes>"
            ],
            "image/png": "[encoded data removed]"
          },
          "metadata": {
            "needs_background": "light"
          }
        }
      ],
      "source": [
        "df_states_edu.plot.scatter(x=\"instruction_expenditure_per_student\", y=\"AVG_MATH_8_SCORE\", alpha=0.6)\n",
        "plt.xlabel(\"instruction_expenditure_per_student\")\n",
        "plt.ylabel(\"AVG_MATH_8_SCORE\")"
      ]
    },
    {
      "cell_type": "markdown",
      "metadata": {
        "id": "vzI0Xhd-sYQw"
      },
      "source": [
        "**Instruction expenditure is related to the average 8th year math score.**"
      ]
    },
    {
      "cell_type": "markdown",
      "metadata": {
        "id": "SwvTOIDnfUXH"
      },
      "source": [
        "**Visualization 3**"
      ]
    },
    {
      "cell_type": "code",
      "source": [
        "df_states_edu.plot.scatter(x=\"instruction_expenditure_percentage\", y=\"AVG_MATH_8_SCORE\", alpha=0.6)\n",
        "plt.xlabel(\"instruction_expenditure_percentage\")\n",
        "plt.ylabel(\"AVG_MATH_8_SCORE\")"
      ],
      "metadata": {
        "colab": {
          "base_uri": "https://localhost:8080/",
          "height": 297
        },
        "id": "1XhCduhAfX7s",
        "outputId": "dd52c40c-40e2-4926-804b-ff4980f33fe0"
      },
      "execution_count": 63,
      "outputs": [
        {
          "output_type": "execute_result",
          "data": {
            "text/plain": [
              "Text(0, 0.5, 'AVG_MATH_8_SCORE')"
            ]
          },
          "metadata": {},
          "execution_count": 63
        },
        {
          "output_type": "display_data",
          "data": {
            "text/plain": [
              "<Figure size 432x288 with 1 Axes>"
            ],
            "image/png": "[encoded data removed]"
          },
          "metadata": {
            "needs_background": "light"
          }
        }
      ]
    },
    {
      "cell_type": "markdown",
      "source": [
        "**Instruction expenditure percentage is not strongly related to the average 8th year math score.**"
      ],
      "metadata": {
        "id": "Hhaprdirfl30"
      }
    },
    {
      "cell_type": "markdown",
      "metadata": {
        "id": "GcKcp856sYQx"
      },
      "source": [
        "<h2> Data Creation </h2>\n",
        "\n",
        "_Use this space to create train/test data_"
      ]
    },
    {
      "cell_type": "code",
      "execution_count": null,
      "metadata": {
        "id": "isDKvYRUsYQx"
      },
      "outputs": [],
      "source": [
        "from sklearn.model_selection import train_test_split"
      ]
    },
    {
      "cell_type": "code",
      "execution_count": null,
      "metadata": {
        "id": "6KJbJCsTsYQx"
      },
      "outputs": [],
      "source": [
        "# X =\n",
        "# y = "
      ]
    },
    {
      "cell_type": "code",
      "execution_count": null,
      "metadata": {
        "id": "kX0-yk4YsYQx"
      },
      "outputs": [],
      "source": [
        "# X_train, X_test, y_train, y_test = train_test_split(\n",
        "#      X, y, test_size=, random_state=42)"
      ]
    },
    {
      "cell_type": "markdown",
      "metadata": {
        "id": "mn2dJ0jKsYQx"
      },
      "source": [
        "<h2> Prediction </h2>"
      ]
    },
    {
      "cell_type": "markdown",
      "metadata": {
        "id": "1JFV3r0esYQy"
      },
      "source": [
        "ML Models [Resource](https://medium.com/@vijaya.beeravalli/comparison-of-machine-learning-classification-models-for-credit-card-default-data-c3cf805c9a5a)"
      ]
    },
    {
      "cell_type": "code",
      "execution_count": null,
      "metadata": {
        "id": "fesc3uApsYQy"
      },
      "outputs": [],
      "source": [
        "# import your sklearn class here"
      ]
    },
    {
      "cell_type": "code",
      "execution_count": null,
      "metadata": {
        "id": "9KhKMJfusYQy"
      },
      "outputs": [],
      "source": [
        "# create your model here\n",
        "# model = "
      ]
    },
    {
      "cell_type": "code",
      "execution_count": null,
      "metadata": {
        "id": "XXZLE--JsYQy"
      },
      "outputs": [],
      "source": [
        "model.fit(X_train, y_train)"
      ]
    },
    {
      "cell_type": "code",
      "execution_count": null,
      "metadata": {
        "id": "dyj1A24_sYQy"
      },
      "outputs": [],
      "source": [
        "y_pred = model.predict(X_test)"
      ]
    },
    {
      "cell_type": "markdown",
      "metadata": {
        "id": "WLCKWtSssYQy"
      },
      "source": [
        "## Evaluation"
      ]
    },
    {
      "cell_type": "markdown",
      "metadata": {
        "id": "Tdv_FYnDsYQy"
      },
      "source": [
        "Choose some metrics to evaluate the performance of your model, some of them are mentioned in the tutorial."
      ]
    },
    {
      "cell_type": "code",
      "execution_count": null,
      "metadata": {
        "id": "LO3AJwU5sYQy"
      },
      "outputs": [],
      "source": []
    },
    {
      "cell_type": "markdown",
      "metadata": {
        "id": "b-E44O53sYQy"
      },
      "source": [
        "We have copied over the graphs that visualize the model's performance on the training and testing set. \n",
        "\n",
        "Change `col_name` and modify the call to `plt.ylabel()` to isolate how a single predictor affects the model."
      ]
    },
    {
      "cell_type": "code",
      "execution_count": null,
      "metadata": {
        "id": "ZEyZlLN-sYQy"
      },
      "outputs": [],
      "source": [
        "# col_name = 'COLUMN NAME OF ONE PREDICTOR'\n",
        "\n",
        "# f = plt.figure(figsize=(12,6))\n",
        "# plt.scatter(X_train[col_name], y_train, color = \"red\")\n",
        "# plt.scatter(X_train[col_name], model.predict(X_train), color = \"green\")\n",
        "\n",
        "# plt.legend(['True Training','Predicted Training'])\n",
        "# plt.xlabel(col_name)\n",
        "# plt.ylabel('NAME OF THE PREDICTOR')\n",
        "# plt.title(\"Model Behavior On Training Set\")"
      ]
    },
    {
      "cell_type": "code",
      "execution_count": null,
      "metadata": {
        "id": "7c_JK2pNsYQz"
      },
      "outputs": [],
      "source": [
        "# col_name = 'COLUMN NAME OF ONE PREDICTOR\"\n",
        "\n",
        "# f = plt.figure(figsize=(12,6))\n",
        "# plt.scatter(X_test[col_name], y_test, color = \"blue\")\n",
        "# plt.scatter(X_test[col_name], model.predict(X_test), color = \"black\")\n",
        "\n",
        "# plt.legend(['True testing','Predicted testing'])\n",
        "# plt.xlabel(col_name)\n",
        "# plt.ylabel('NAME OF THE PREDICTOR')\n",
        "# plt.title(\"Model Behavior on Testing Set\")"
      ]
    },
    {
      "cell_type": "markdown",
      "metadata": {
        "id": "6jQgBTK1sYQz"
      },
      "source": [
        "<h2> Summary </h2>"
      ]
    },
    {
      "cell_type": "markdown",
      "metadata": {
        "id": "Lpe1cqg3sYQz"
      },
      "source": [
        "**<WRITE A PARAGRAPH SUMMARIZING YOUR WORK, FINDINGS, AND THE PERFORMANCE OF YOUR MODEL\\>**"
      ]
    }
  ],
  "metadata": {
    "kernelspec": {
      "display_name": "Python 3.9.0 64-bit",
      "language": "python",
      "name": "python3"
    },
    "language_info": {
      "codemirror_mode": {
        "name": "ipython",
        "version": 3
      },
      "file_extension": ".py",
      "mimetype": "text/x-python",
      "name": "python",
      "nbconvert_exporter": "python",
      "pygments_lexer": "ipython3",
      "version": "3.9.0"
    },
    "vscode": {
      "interpreter": {
        "hash": "6cf8df3ff69f85f626faf55c10df6fe2cb9d1236b4dc73844ee4dc01369c2c99"
      }
    },
    "colab": {
      "provenance": [],
      "include_colab_link": true
    }
  },
  "nbformat": 4,
  "nbformat_minor": 0
}