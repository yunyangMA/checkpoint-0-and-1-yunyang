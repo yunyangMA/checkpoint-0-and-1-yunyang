{
  "cells": [
    {
      "cell_type": "markdown",
      "metadata": {
        "id": "view-in-github",
        "colab_type": "text"
      },
      "source": [
        "<a href=\"https://colab.research.google.com/github/yunyangMA/checkpoint-0-and-1-yunyang/blob/main/Dict/%22checkpoint0_ipynb%22yunyang.ipynb\" target=\"_parent\"><img src=\"https://colab.research.google.com/assets/colab-badge.svg\" alt=\"Open In Colab\"/></a>"
      ]
    },
    {
      "cell_type": "markdown",
      "metadata": {
        "id": "0a8IYAJUshu1"
      },
      "source": [
        "# Checkpoint 0 "
      ],
      "id": "0a8IYAJUshu1"
    },
    {
      "cell_type": "markdown",
      "metadata": {
        "id": "hkUgKXMTwG_t"
      },
      "source": [
        "These exercises are a mix of Python and Pandas practice. Most should be no more than a few lines of code! "
      ],
      "id": "hkUgKXMTwG_t"
    },
    {
      "cell_type": "code",
      "execution_count": null,
      "metadata": {
        "id": "Jo6wuTgkshu1"
      },
      "outputs": [],
      "source": [
        "# here is a Python list:\n",
        "\n",
        "a = [1, 2, 3, 4, 5, 6]\n"
      ],
      "id": "Jo6wuTgkshu1"
    },
    {
      "cell_type": "code",
      "execution_count": null,
      "id": "779d96b1",
      "metadata": {
        "id": "779d96b1"
      },
      "outputs": [],
      "source": [
        "# get a list containing the last 3 elements of a\n",
        "# Yes, you can just type out [4, 5, 6] but we really want to see you demonstrate you know how to do that in Python"
      ]
    },
    {
      "cell_type": "code",
      "source": [
        "a=[1,2,3,4,5,6]\n",
        "a[3:]"
      ],
      "metadata": {
        "colab": {
          "base_uri": "https://localhost:8080/"
        },
        "id": "eaj9quHnxn-3",
        "outputId": "1833f53b-b74d-4f0e-e043-e3c497c15753"
      },
      "id": "eaj9quHnxn-3",
      "execution_count": 1,
      "outputs": [
        {
          "output_type": "execute_result",
          "data": {
            "text/plain": [
              "[4, 5, 6]"
            ]
          },
          "metadata": {},
          "execution_count": 1
        }
      ]
    },
    {
      "cell_type": "code",
      "execution_count": null,
      "id": "b6a54def",
      "metadata": {
        "id": "b6a54def"
      },
      "outputs": [],
      "source": [
        "# create a list of numbers from 1 to 100"
      ]
    },
    {
      "cell_type": "code",
      "source": [
        "nums = list(range(1,101))"
      ],
      "metadata": {
        "id": "q9vTspely1tB"
      },
      "id": "q9vTspely1tB",
      "execution_count": 5,
      "outputs": []
    },
    {
      "cell_type": "code",
      "execution_count": null,
      "id": "487873ac",
      "metadata": {
        "id": "487873ac"
      },
      "outputs": [],
      "source": [
        "# now get a list with only the even numbers between 1 and 100\n",
        "# you may or may not make use of the list you made in the last cell"
      ]
    },
    {
      "cell_type": "code",
      "source": [
        "nums_even = list(range(0,100,2))"
      ],
      "metadata": {
        "colab": {
          "base_uri": "https://localhost:8080/"
        },
        "id": "d5fha3BezzfU",
        "outputId": "1cf23906-430c-44dd-94f1-43fba978c690"
      },
      "id": "d5fha3BezzfU",
      "execution_count": 7,
      "outputs": [
        {
          "output_type": "stream",
          "name": "stdout",
          "text": [
            "[0, 2, 4, 6, 8, 10, 12, 14, 16, 18, 20, 22, 24, 26, 28, 30, 32, 34, 36, 38, 40, 42, 44, 46, 48, 50, 52, 54, 56, 58, 60, 62, 64, 66, 68, 70, 72, 74, 76, 78, 80, 82, 84, 86, 88, 90, 92, 94, 96, 98]\n"
          ]
        }
      ]
    },
    {
      "cell_type": "code",
      "execution_count": null,
      "id": "3d4bb5dd",
      "metadata": {
        "id": "3d4bb5dd"
      },
      "outputs": [],
      "source": [
        "# write a function that takes two numbers as arguments\n",
        "# and returns the first number divided by the second"
      ]
    },
    {
      "cell_type": "code",
      "source": [
        "def divide2num(a,b):\n",
        "    c=a/b\n",
        "    print(c)"
      ],
      "metadata": {
        "id": "007bi--u0Y1C"
      },
      "id": "007bi--u0Y1C",
      "execution_count": 11,
      "outputs": []
    },
    {
      "cell_type": "code",
      "execution_count": null,
      "id": "b93669fa",
      "metadata": {
        "id": "b93669fa"
      },
      "outputs": [],
      "source": [
        "# write a function that takes a string as input\n",
        "# and return that string in all caps"
      ]
    },
    {
      "cell_type": "code",
      "source": [
        "def captical_string(a:str):\n",
        "    print(str.upper(a)) "
      ],
      "metadata": {
        "id": "vxffwHjk1re-"
      },
      "id": "vxffwHjk1re-",
      "execution_count": 18,
      "outputs": []
    },
    {
      "cell_type": "code",
      "execution_count": null,
      "id": "f55df04e",
      "metadata": {
        "id": "f55df04e"
      },
      "outputs": [],
      "source": [
        "# optional challenge - fizzbuzz\n",
        "# you will need to use both iteration and control flow \n",
        "# go through all numbers from 1 to 100 in order\n",
        "# if the number is a multiple of 3, print fizz\n",
        "# if the number is a multiple of 5, print buzz\n",
        "# if the number is a multiple of 3 and 5, print fizzbuzz and NOTHING ELSE\n",
        "# if the number is neither a multiple of 3 nor a multiple of 5, print the number"
      ]
    },
    {
      "cell_type": "code",
      "execution_count": null,
      "id": "78aace0b",
      "metadata": {
        "id": "78aace0b"
      },
      "outputs": [],
      "source": [
        "# create a dictionary that reflects the following menu pricing (taken from Ahmo's)\n",
        "# Gyro: $9 \n",
        "# Burger: $9\n",
        "# Greek Salad: $8\n",
        "# Philly Steak: $10"
      ]
    },
    {
      "cell_type": "code",
      "source": [
        "Ahmo_pricing = {\"Gyro\":9, \"Burger\":9, \"Greek Salad\":8, \"Philly Steak\":10}"
      ],
      "metadata": {
        "id": "4ZDJbAwx3vFV"
      },
      "id": "4ZDJbAwx3vFV",
      "execution_count": 19,
      "outputs": []
    },
    {
      "cell_type": "code",
      "execution_count": null,
      "metadata": {
        "id": "WzCQ5HOJshvA"
      },
      "outputs": [],
      "source": [
        "# load in the \"starbucks.csv\" dataset\n",
        "# refer to how we read the cereal.csv dataset in the tutorial\n"
      ],
      "id": "WzCQ5HOJshvA"
    },
    {
      "cell_type": "code",
      "source": [
        "import pandas as pd\n",
        "from google.colab import drive\n",
        "import os\n",
        "drive.mount('/content/gdrive')\n",
        "os.chdir(\"/content/gdrive/My Drive/MDST files/MDST-Tutorial-Redesign-main/data\")\n",
        "df_starbucks = pd.read_csv(\"starbucks.csv\")"
      ],
      "metadata": {
        "colab": {
          "base_uri": "https://localhost:8080/"
        },
        "id": "mVJHz5cx5Ynf",
        "outputId": "ce75f983-b893-4c8b-bc88-3429bae67b0e"
      },
      "id": "mVJHz5cx5Ynf",
      "execution_count": 34,
      "outputs": [
        {
          "output_type": "stream",
          "name": "stdout",
          "text": [
            "Drive already mounted at /content/gdrive; to attempt to forcibly remount, call drive.mount(\"/content/gdrive\", force_remount=True).\n"
          ]
        }
      ]
    },
    {
      "cell_type": "code",
      "execution_count": null,
      "id": "68210b5f",
      "metadata": {
        "id": "68210b5f"
      },
      "outputs": [],
      "source": [
        "# output the calories, sugars, and protein columns only of every 40th row. "
      ]
    },
    {
      "cell_type": "code",
      "source": [],
      "metadata": {
        "id": "2yyS9OCCCMQy"
      },
      "id": "2yyS9OCCCMQy",
      "execution_count": null,
      "outputs": []
    },
    {
      "cell_type": "code",
      "execution_count": null,
      "id": "ac0f0c12",
      "metadata": {
        "id": "ac0f0c12"
      },
      "outputs": [],
      "source": [
        "# select all rows with more than and including 400 calories"
      ]
    },
    {
      "cell_type": "code",
      "source": [],
      "metadata": {
        "id": "uc5z-Hr-EkGH"
      },
      "id": "uc5z-Hr-EkGH",
      "execution_count": null,
      "outputs": []
    },
    {
      "cell_type": "code",
      "execution_count": null,
      "id": "ee8f8241",
      "metadata": {
        "id": "ee8f8241"
      },
      "outputs": [],
      "source": [
        "# select all rows whose vitamin c content is higher than the iron content"
      ]
    },
    {
      "cell_type": "code",
      "source": [],
      "metadata": {
        "id": "xN_CYNpqEt8v"
      },
      "id": "xN_CYNpqEt8v",
      "execution_count": null,
      "outputs": []
    },
    {
      "cell_type": "code",
      "execution_count": null,
      "id": "d4de48bb",
      "metadata": {
        "id": "d4de48bb"
      },
      "outputs": [],
      "source": [
        "# create a new column containing the caffeine per calories of each drink"
      ]
    },
    {
      "cell_type": "code",
      "source": [],
      "metadata": {
        "id": "InvSvNEAFJ4v"
      },
      "id": "InvSvNEAFJ4v",
      "execution_count": null,
      "outputs": []
    },
    {
      "cell_type": "code",
      "execution_count": null,
      "metadata": {
        "id": "rIoxaSxHshvB"
      },
      "outputs": [],
      "source": [
        "# what is the average calorie across all items?\n"
      ],
      "id": "rIoxaSxHshvB"
    },
    {
      "cell_type": "code",
      "execution_count": null,
      "metadata": {
        "id": "ABX7i49FshvD"
      },
      "outputs": [],
      "source": [
        "# how many different categories of beverages are there?\n"
      ],
      "id": "ABX7i49FshvD"
    },
    {
      "cell_type": "code",
      "execution_count": null,
      "metadata": {
        "id": "P9QatZAzshvE"
      },
      "outputs": [],
      "source": [
        "# what is the average # calories for each beverage category?\n"
      ],
      "id": "P9QatZAzshvE"
    },
    {
      "cell_type": "code",
      "execution_count": null,
      "metadata": {
        "id": "zka7AIw_wG_y"
      },
      "outputs": [],
      "source": [
        "# plot the distribution of the number of calories in drinks with a histogram\n"
      ],
      "id": "zka7AIw_wG_y"
    },
    {
      "cell_type": "code",
      "execution_count": null,
      "metadata": {
        "id": "aLZX0uBKwG_y"
      },
      "outputs": [],
      "source": [
        "# plot calories against total fat with a scatterplot\n"
      ],
      "id": "aLZX0uBKwG_y"
    }
  ],
  "metadata": {
    "kernelspec": {
      "display_name": "Python 3.9.0 64-bit",
      "language": "python",
      "name": "python3"
    },
    "language_info": {
      "codemirror_mode": {
        "name": "ipython",
        "version": 3
      },
      "file_extension": ".py",
      "mimetype": "text/x-python",
      "name": "python",
      "nbconvert_exporter": "python",
      "pygments_lexer": "ipython3",
      "version": "3.9.0"
    },
    "vscode": {
      "interpreter": {
        "hash": "6cf8df3ff69f85f626faf55c10df6fe2cb9d1236b4dc73844ee4dc01369c2c99"
      }
    },
    "colab": {
      "provenance": [],
      "include_colab_link": true
    }
  },
  "nbformat": 4,
  "nbformat_minor": 5
}